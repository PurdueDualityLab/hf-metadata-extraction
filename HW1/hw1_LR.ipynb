{
 "cells": [
  {
   "cell_type": "code",
   "execution_count": 70,
   "metadata": {},
   "outputs": [],
   "source": [
    "import numpy as np\n",
    "import pandas as pd\n",
    "\n",
    "from loguru import logger"
   ]
  },
  {
   "cell_type": "code",
   "execution_count": 71,
   "metadata": {},
   "outputs": [
    {
     "data": {
      "text/html": [
       "<div>\n",
       "<style scoped>\n",
       "    .dataframe tbody tr th:only-of-type {\n",
       "        vertical-align: middle;\n",
       "    }\n",
       "\n",
       "    .dataframe tbody tr th {\n",
       "        vertical-align: top;\n",
       "    }\n",
       "\n",
       "    .dataframe thead th {\n",
       "        text-align: right;\n",
       "    }\n",
       "</style>\n",
       "<table border=\"1\" class=\"dataframe\">\n",
       "  <thead>\n",
       "    <tr style=\"text-align: right;\">\n",
       "      <th></th>\n",
       "      <th>id</th>\n",
       "      <th>text</th>\n",
       "      <th>emotions</th>\n",
       "    </tr>\n",
       "  </thead>\n",
       "  <tbody>\n",
       "    <tr>\n",
       "      <th>0</th>\n",
       "      <td>27383</td>\n",
       "      <td>i feel awful about it too because it s my job ...</td>\n",
       "      <td>sadness</td>\n",
       "    </tr>\n",
       "    <tr>\n",
       "      <th>1</th>\n",
       "      <td>110083</td>\n",
       "      <td>im alone i feel awful</td>\n",
       "      <td>sadness</td>\n",
       "    </tr>\n",
       "    <tr>\n",
       "      <th>2</th>\n",
       "      <td>140764</td>\n",
       "      <td>ive probably mentioned this before but i reall...</td>\n",
       "      <td>joy</td>\n",
       "    </tr>\n",
       "    <tr>\n",
       "      <th>3</th>\n",
       "      <td>100071</td>\n",
       "      <td>i was feeling a little low few days back</td>\n",
       "      <td>sadness</td>\n",
       "    </tr>\n",
       "    <tr>\n",
       "      <th>4</th>\n",
       "      <td>2837</td>\n",
       "      <td>i beleive that i am much more sensitive to oth...</td>\n",
       "      <td>love</td>\n",
       "    </tr>\n",
       "  </tbody>\n",
       "</table>\n",
       "</div>"
      ],
      "text/plain": [
       "       id                                               text emotions\n",
       "0   27383  i feel awful about it too because it s my job ...  sadness\n",
       "1  110083                              im alone i feel awful  sadness\n",
       "2  140764  ive probably mentioned this before but i reall...      joy\n",
       "3  100071           i was feeling a little low few days back  sadness\n",
       "4    2837  i beleive that i am much more sensitive to oth...     love"
      ]
     },
     "execution_count": 71,
     "metadata": {},
     "output_type": "execute_result"
    }
   ],
   "source": [
    "def read_csv(path: str) -> pd.DataFrame:\n",
    "    file = pd.read_csv(path)\n",
    "    return file\n",
    "\n",
    "TRAIN_SET = read_csv(\"./train.csv\")\n",
    "TEST_SET = read_csv(\"./test.csv\")\n",
    "TRAIN_SET.head()"
   ]
  },
  {
   "cell_type": "code",
   "execution_count": 72,
   "metadata": {},
   "outputs": [
    {
     "data": {
      "text/plain": [
       "joy         412\n",
       "sadness     351\n",
       "anger       161\n",
       "fear        129\n",
       "love        106\n",
       "surprise     41\n",
       "Name: emotions, dtype: int64"
      ]
     },
     "execution_count": 72,
     "metadata": {},
     "output_type": "execute_result"
    }
   ],
   "source": [
    "dataset = TRAIN_SET\n",
    "dataset.emotions.value_counts()"
   ]
  },
  {
   "cell_type": "code",
   "execution_count": 73,
   "metadata": {},
   "outputs": [
    {
     "data": {
      "text/html": [
       "<div>\n",
       "<style scoped>\n",
       "    .dataframe tbody tr th:only-of-type {\n",
       "        vertical-align: middle;\n",
       "    }\n",
       "\n",
       "    .dataframe tbody tr th {\n",
       "        vertical-align: top;\n",
       "    }\n",
       "\n",
       "    .dataframe thead th {\n",
       "        text-align: right;\n",
       "    }\n",
       "</style>\n",
       "<table border=\"1\" class=\"dataframe\">\n",
       "  <thead>\n",
       "    <tr style=\"text-align: right;\">\n",
       "      <th></th>\n",
       "      <th>id</th>\n",
       "      <th>text</th>\n",
       "      <th>emotions</th>\n",
       "    </tr>\n",
       "  </thead>\n",
       "  <tbody>\n",
       "    <tr>\n",
       "      <th>37</th>\n",
       "      <td>79</td>\n",
       "      <td>article published</td>\n",
       "      <td>joy</td>\n",
       "    </tr>\n",
       "    <tr>\n",
       "      <th>669</th>\n",
       "      <td>90</td>\n",
       "      <td>at end of school function to celebrate leaving...</td>\n",
       "      <td>sadness</td>\n",
       "    </tr>\n",
       "    <tr>\n",
       "      <th>308</th>\n",
       "      <td>149</td>\n",
       "      <td>football was a very big deal at my high school</td>\n",
       "      <td>joy</td>\n",
       "    </tr>\n",
       "    <tr>\n",
       "      <th>743</th>\n",
       "      <td>181</td>\n",
       "      <td>i almost feel your touch that caress so gentle...</td>\n",
       "      <td>love</td>\n",
       "    </tr>\n",
       "    <tr>\n",
       "      <th>166</th>\n",
       "      <td>209</td>\n",
       "      <td>held under water by a large wave and thought i...</td>\n",
       "      <td>fear</td>\n",
       "    </tr>\n",
       "  </tbody>\n",
       "</table>\n",
       "</div>"
      ],
      "text/plain": [
       "      id                                               text emotions\n",
       "37    79                                  article published      joy\n",
       "669   90  at end of school function to celebrate leaving...  sadness\n",
       "308  149     football was a very big deal at my high school      joy\n",
       "743  181  i almost feel your touch that caress so gentle...     love\n",
       "166  209  held under water by a large wave and thought i...     fear"
      ]
     },
     "execution_count": 73,
     "metadata": {},
     "output_type": "execute_result"
    }
   ],
   "source": [
    "dataset = dataset.sort_values(\"id\")\n",
    "dataset.head()"
   ]
  },
  {
   "cell_type": "code",
   "execution_count": 74,
   "metadata": {},
   "outputs": [
    {
     "data": {
      "text/plain": [
       "(array([ 69, 156, 700, 705, 825]),)"
      ]
     },
     "execution_count": 74,
     "metadata": {},
     "output_type": "execute_result"
    }
   ],
   "source": [
    "dataset_dup = dataset.duplicated(subset=[\"id\"])\n",
    "index = np.where(dataset_dup==True)\n",
    "index"
   ]
  },
  {
   "cell_type": "code",
   "execution_count": 75,
   "metadata": {},
   "outputs": [],
   "source": [
    "dataset = dataset.drop(index[0])"
   ]
  },
  {
   "cell_type": "code",
   "execution_count": 76,
   "metadata": {},
   "outputs": [
    {
     "data": {
      "text/plain": [
       "1195"
      ]
     },
     "execution_count": 76,
     "metadata": {},
     "output_type": "execute_result"
    }
   ],
   "source": [
    "len(dataset)"
   ]
  },
  {
   "cell_type": "code",
   "execution_count": 77,
   "metadata": {},
   "outputs": [],
   "source": [
    "# dataset_js = [\n",
    "#     {\n",
    "#         \"id\": 27383,\n",
    "#         \"text\": \"i feel awful about it too because it s my job to get him in a position to succeed and it just didn t happen here\",\n",
    "#         \"emotion\": \"sadness\"\n",
    "#     },\n",
    "#     {\n",
    "#         \"id\": 110083,\n",
    "#         \"text\": \"im alone i feel awful\t\",\n",
    "#         \"emotion\": \"sadness\"\n",
    "#     }\n",
    "# ]\n",
    "# # \n",
    "# dataset = dataset_js\n",
    "# texts = [entry['text'] for entry in dataset_js]\n",
    "# emotions = [entry['emotion'] for entry in dataset_js]\n",
    "# texts, emotions"
   ]
  },
  {
   "cell_type": "code",
   "execution_count": 78,
   "metadata": {},
   "outputs": [],
   "source": [
    "# emotion_set = set(emotions)\n",
    "# emotion_to_int = {emotion: i for i, emotion in enumerate(emotion_set)}\n",
    "# int_to_emotion = {i: emotion for i, emotion in enumerate(emotion_set)}\n",
    "# emotion_to_int, int_to_emotion"
   ]
  },
  {
   "cell_type": "code",
   "execution_count": 79,
   "metadata": {},
   "outputs": [
    {
     "ename": "KeyboardInterrupt",
     "evalue": "",
     "output_type": "error",
     "traceback": [
      "\u001b[0;31m---------------------------------------------------------------------------\u001b[0m",
      "\u001b[0;31mKeyboardInterrupt\u001b[0m                         Traceback (most recent call last)",
      "Cell \u001b[0;32mIn[79], line 1\u001b[0m\n\u001b[0;32m----> 1\u001b[0m \u001b[39mimport\u001b[39;00m \u001b[39mnltk\u001b[39;00m\n\u001b[1;32m      2\u001b[0m \u001b[39mfrom\u001b[39;00m \u001b[39mnltk\u001b[39;00m\u001b[39m.\u001b[39;00m\u001b[39mcorpus\u001b[39;00m \u001b[39mimport\u001b[39;00m brown\n\u001b[1;32m      3\u001b[0m nltk\u001b[39m.\u001b[39mdownload()\n",
      "File \u001b[0;32m~/miniconda3/envs/cs577/lib/python3.8/site-packages/nltk/__init__.py:132\u001b[0m\n\u001b[1;32m    124\u001b[0m     subprocess\u001b[39m.\u001b[39mPopen \u001b[39m=\u001b[39m _fake_Popen\n\u001b[1;32m    126\u001b[0m \u001b[39m###########################################################\u001b[39;00m\n\u001b[1;32m    127\u001b[0m \u001b[39m# TOP-LEVEL MODULES\u001b[39;00m\n\u001b[1;32m    128\u001b[0m \u001b[39m###########################################################\u001b[39;00m\n\u001b[1;32m    129\u001b[0m \n\u001b[1;32m    130\u001b[0m \u001b[39m# Import top-level functionality into top-level namespace\u001b[39;00m\n\u001b[0;32m--> 132\u001b[0m \u001b[39mfrom\u001b[39;00m \u001b[39mnltk\u001b[39;00m\u001b[39m.\u001b[39;00m\u001b[39mcollocations\u001b[39;00m \u001b[39mimport\u001b[39;00m \u001b[39m*\u001b[39m\n\u001b[1;32m    133\u001b[0m \u001b[39mfrom\u001b[39;00m \u001b[39mnltk\u001b[39;00m\u001b[39m.\u001b[39;00m\u001b[39mdecorators\u001b[39;00m \u001b[39mimport\u001b[39;00m decorator, memoize\n\u001b[1;32m    134\u001b[0m \u001b[39mfrom\u001b[39;00m \u001b[39mnltk\u001b[39;00m\u001b[39m.\u001b[39;00m\u001b[39mfeatstruct\u001b[39;00m \u001b[39mimport\u001b[39;00m \u001b[39m*\u001b[39m\n",
      "File \u001b[0;32m~/miniconda3/envs/cs577/lib/python3.8/site-packages/nltk/collocations.py:36\u001b[0m\n\u001b[1;32m     33\u001b[0m \u001b[39mimport\u001b[39;00m \u001b[39mitertools\u001b[39;00m \u001b[39mas\u001b[39;00m \u001b[39m_itertools\u001b[39;00m\n\u001b[1;32m     35\u001b[0m \u001b[39m# these two unused imports are referenced in collocations.doctest\u001b[39;00m\n\u001b[0;32m---> 36\u001b[0m \u001b[39mfrom\u001b[39;00m \u001b[39mnltk\u001b[39;00m\u001b[39m.\u001b[39;00m\u001b[39mmetrics\u001b[39;00m \u001b[39mimport\u001b[39;00m (\n\u001b[1;32m     37\u001b[0m     BigramAssocMeasures,\n\u001b[1;32m     38\u001b[0m     ContingencyMeasures,\n\u001b[1;32m     39\u001b[0m     QuadgramAssocMeasures,\n\u001b[1;32m     40\u001b[0m     TrigramAssocMeasures,\n\u001b[1;32m     41\u001b[0m )\n\u001b[1;32m     42\u001b[0m \u001b[39mfrom\u001b[39;00m \u001b[39mnltk\u001b[39;00m\u001b[39m.\u001b[39;00m\u001b[39mmetrics\u001b[39;00m\u001b[39m.\u001b[39;00m\u001b[39mspearman\u001b[39;00m \u001b[39mimport\u001b[39;00m ranks_from_scores, spearman_correlation\n\u001b[1;32m     43\u001b[0m \u001b[39mfrom\u001b[39;00m \u001b[39mnltk\u001b[39;00m\u001b[39m.\u001b[39;00m\u001b[39mprobability\u001b[39;00m \u001b[39mimport\u001b[39;00m FreqDist\n",
      "File \u001b[0;32m~/miniconda3/envs/cs577/lib/python3.8/site-packages/nltk/metrics/__init__.py:18\u001b[0m\n\u001b[1;32m     16\u001b[0m \u001b[39mfrom\u001b[39;00m \u001b[39mnltk\u001b[39;00m\u001b[39m.\u001b[39;00m\u001b[39mmetrics\u001b[39;00m\u001b[39m.\u001b[39;00m\u001b[39magreement\u001b[39;00m \u001b[39mimport\u001b[39;00m AnnotationTask\n\u001b[1;32m     17\u001b[0m \u001b[39mfrom\u001b[39;00m \u001b[39mnltk\u001b[39;00m\u001b[39m.\u001b[39;00m\u001b[39mmetrics\u001b[39;00m\u001b[39m.\u001b[39;00m\u001b[39maline\u001b[39;00m \u001b[39mimport\u001b[39;00m align\n\u001b[0;32m---> 18\u001b[0m \u001b[39mfrom\u001b[39;00m \u001b[39mnltk\u001b[39;00m\u001b[39m.\u001b[39;00m\u001b[39mmetrics\u001b[39;00m\u001b[39m.\u001b[39;00m\u001b[39massociation\u001b[39;00m \u001b[39mimport\u001b[39;00m (\n\u001b[1;32m     19\u001b[0m     BigramAssocMeasures,\n\u001b[1;32m     20\u001b[0m     ContingencyMeasures,\n\u001b[1;32m     21\u001b[0m     NgramAssocMeasures,\n\u001b[1;32m     22\u001b[0m     QuadgramAssocMeasures,\n\u001b[1;32m     23\u001b[0m     TrigramAssocMeasures,\n\u001b[1;32m     24\u001b[0m )\n\u001b[1;32m     25\u001b[0m \u001b[39mfrom\u001b[39;00m \u001b[39mnltk\u001b[39;00m\u001b[39m.\u001b[39;00m\u001b[39mmetrics\u001b[39;00m\u001b[39m.\u001b[39;00m\u001b[39mconfusionmatrix\u001b[39;00m \u001b[39mimport\u001b[39;00m ConfusionMatrix\n\u001b[1;32m     26\u001b[0m \u001b[39mfrom\u001b[39;00m \u001b[39mnltk\u001b[39;00m\u001b[39m.\u001b[39;00m\u001b[39mmetrics\u001b[39;00m\u001b[39m.\u001b[39;00m\u001b[39mdistance\u001b[39;00m \u001b[39mimport\u001b[39;00m (\n\u001b[1;32m     27\u001b[0m     binary_distance,\n\u001b[1;32m     28\u001b[0m     custom_distance,\n\u001b[0;32m   (...)\u001b[0m\n\u001b[1;32m     35\u001b[0m     presence,\n\u001b[1;32m     36\u001b[0m )\n",
      "File \u001b[0;32m~/miniconda3/envs/cs577/lib/python3.8/site-packages/nltk/metrics/association.py:26\u001b[0m\n\u001b[1;32m     23\u001b[0m _SMALL \u001b[39m=\u001b[39m \u001b[39m1e-20\u001b[39m\n\u001b[1;32m     25\u001b[0m \u001b[39mtry\u001b[39;00m:\n\u001b[0;32m---> 26\u001b[0m     \u001b[39mfrom\u001b[39;00m \u001b[39mscipy\u001b[39;00m\u001b[39m.\u001b[39;00m\u001b[39mstats\u001b[39;00m \u001b[39mimport\u001b[39;00m fisher_exact\n\u001b[1;32m     27\u001b[0m \u001b[39mexcept\u001b[39;00m \u001b[39mImportError\u001b[39;00m:\n\u001b[1;32m     29\u001b[0m     \u001b[39mdef\u001b[39;00m \u001b[39mfisher_exact\u001b[39m(\u001b[39m*\u001b[39m_args, \u001b[39m*\u001b[39m\u001b[39m*\u001b[39m_kwargs):\n",
      "File \u001b[0;32m~/miniconda3/envs/cs577/lib/python3.8/site-packages/scipy/stats/__init__.py:485\u001b[0m\n\u001b[1;32m      1\u001b[0m \u001b[39m\"\"\"\u001b[39;00m\n\u001b[1;32m      2\u001b[0m \u001b[39m.. _statsrefmanual:\u001b[39;00m\n\u001b[1;32m      3\u001b[0m \n\u001b[0;32m   (...)\u001b[0m\n\u001b[1;32m    480\u001b[0m \n\u001b[1;32m    481\u001b[0m \u001b[39m\"\"\"\u001b[39;00m\n\u001b[1;32m    483\u001b[0m \u001b[39mfrom\u001b[39;00m \u001b[39m.\u001b[39;00m\u001b[39m_warnings_errors\u001b[39;00m \u001b[39mimport\u001b[39;00m (ConstantInputWarning, NearConstantInputWarning,\n\u001b[1;32m    484\u001b[0m                                DegenerateDataWarning, FitError)\n\u001b[0;32m--> 485\u001b[0m \u001b[39mfrom\u001b[39;00m \u001b[39m.\u001b[39;00m\u001b[39m_stats_py\u001b[39;00m \u001b[39mimport\u001b[39;00m \u001b[39m*\u001b[39m\n\u001b[1;32m    486\u001b[0m \u001b[39mfrom\u001b[39;00m \u001b[39m.\u001b[39;00m\u001b[39m_variation\u001b[39;00m \u001b[39mimport\u001b[39;00m variation\n\u001b[1;32m    487\u001b[0m \u001b[39mfrom\u001b[39;00m \u001b[39m.\u001b[39;00m\u001b[39mdistributions\u001b[39;00m \u001b[39mimport\u001b[39;00m \u001b[39m*\u001b[39m\n",
      "File \u001b[0;32m~/miniconda3/envs/cs577/lib/python3.8/site-packages/scipy/stats/_stats_py.py:37\u001b[0m\n\u001b[1;32m     35\u001b[0m \u001b[39mfrom\u001b[39;00m \u001b[39mnumpy\u001b[39;00m \u001b[39mimport\u001b[39;00m array, asarray, ma\n\u001b[1;32m     36\u001b[0m \u001b[39mfrom\u001b[39;00m \u001b[39mnumpy\u001b[39;00m\u001b[39m.\u001b[39;00m\u001b[39mlib\u001b[39;00m \u001b[39mimport\u001b[39;00m NumpyVersion\n\u001b[0;32m---> 37\u001b[0m \u001b[39mfrom\u001b[39;00m \u001b[39mnumpy\u001b[39;00m\u001b[39m.\u001b[39;00m\u001b[39mtesting\u001b[39;00m \u001b[39mimport\u001b[39;00m suppress_warnings\n\u001b[1;32m     39\u001b[0m \u001b[39mfrom\u001b[39;00m \u001b[39mscipy\u001b[39;00m\u001b[39m.\u001b[39;00m\u001b[39mspatial\u001b[39;00m\u001b[39m.\u001b[39;00m\u001b[39mdistance\u001b[39;00m \u001b[39mimport\u001b[39;00m cdist\n\u001b[1;32m     40\u001b[0m \u001b[39mfrom\u001b[39;00m \u001b[39mscipy\u001b[39;00m\u001b[39m.\u001b[39;00m\u001b[39mndimage\u001b[39;00m \u001b[39mimport\u001b[39;00m _measurements\n",
      "File \u001b[0;32m~/miniconda3/envs/cs577/lib/python3.8/site-packages/numpy/testing/__init__.py:10\u001b[0m\n\u001b[1;32m      1\u001b[0m \u001b[39m\"\"\"Common test support for all numpy test scripts.\u001b[39;00m\n\u001b[1;32m      2\u001b[0m \n\u001b[1;32m      3\u001b[0m \u001b[39mThis single module should provide all the common functionality for numpy tests\u001b[39;00m\n\u001b[0;32m   (...)\u001b[0m\n\u001b[1;32m      6\u001b[0m \n\u001b[1;32m      7\u001b[0m \u001b[39m\"\"\"\u001b[39;00m\n\u001b[1;32m      8\u001b[0m \u001b[39mfrom\u001b[39;00m \u001b[39munittest\u001b[39;00m \u001b[39mimport\u001b[39;00m TestCase\n\u001b[0;32m---> 10\u001b[0m \u001b[39mfrom\u001b[39;00m \u001b[39m.\u001b[39;00m\u001b[39m_private\u001b[39;00m\u001b[39m.\u001b[39;00m\u001b[39mutils\u001b[39;00m \u001b[39mimport\u001b[39;00m \u001b[39m*\u001b[39m\n\u001b[1;32m     11\u001b[0m \u001b[39mfrom\u001b[39;00m \u001b[39m.\u001b[39;00m\u001b[39m_private\u001b[39;00m\u001b[39m.\u001b[39;00m\u001b[39mutils\u001b[39;00m \u001b[39mimport\u001b[39;00m (_assert_valid_refcount, _gen_alignment_data)\n\u001b[1;32m     12\u001b[0m \u001b[39mfrom\u001b[39;00m \u001b[39m.\u001b[39;00m\u001b[39m_private\u001b[39;00m \u001b[39mimport\u001b[39;00m extbuild, decorators \u001b[39mas\u001b[39;00m dec\n",
      "File \u001b[0;32m<frozen importlib._bootstrap>:991\u001b[0m, in \u001b[0;36m_find_and_load\u001b[0;34m(name, import_)\u001b[0m\n",
      "File \u001b[0;32m<frozen importlib._bootstrap>:975\u001b[0m, in \u001b[0;36m_find_and_load_unlocked\u001b[0;34m(name, import_)\u001b[0m\n",
      "File \u001b[0;32m<frozen importlib._bootstrap>:671\u001b[0m, in \u001b[0;36m_load_unlocked\u001b[0;34m(spec)\u001b[0m\n",
      "File \u001b[0;32m<frozen importlib._bootstrap_external>:839\u001b[0m, in \u001b[0;36mexec_module\u001b[0;34m(self, module)\u001b[0m\n",
      "File \u001b[0;32m<frozen importlib._bootstrap_external>:934\u001b[0m, in \u001b[0;36mget_code\u001b[0;34m(self, fullname)\u001b[0m\n",
      "File \u001b[0;32m<frozen importlib._bootstrap_external>:1033\u001b[0m, in \u001b[0;36mget_data\u001b[0;34m(self, path)\u001b[0m\n",
      "\u001b[0;31mKeyboardInterrupt\u001b[0m: "
     ]
    }
   ],
   "source": [
    "import nltk\n",
    "from nltk.corpus import brown\n",
    "nltk.download()"
   ]
  },
  {
   "cell_type": "code",
   "execution_count": null,
   "metadata": {},
   "outputs": [
    {
     "name": "stderr",
     "output_type": "stream",
     "text": [
      "2023-02-13 14:53:00.609 | INFO     | __main__:<module>:15 - 4895\n"
     ]
    }
   ],
   "source": [
    "word2vec = {}\n",
    "word_set = {}\n",
    "word_all = []\n",
    "idx = 0\n",
    "for dataset in (TRAIN_SET, TEST_SET):\n",
    "    for text in dataset.text:\n",
    "        words = text.split()\n",
    "        for word in words:\n",
    "            if word not in word2vec:\n",
    "                word_all.append(word)\n",
    "                word2vec[word] = idx\n",
    "                idx += 1\n",
    "    word_set = set(word_all)\n",
    "    # logger.debug(idx)\n",
    "logger.info(len(word2vec))\n",
    "# logger.info(len(word_set))\n",
    "    # print(text)\n",
    "    # break"
   ]
  },
  {
   "cell_type": "code",
   "execution_count": null,
   "metadata": {},
   "outputs": [
    {
     "name": "stderr",
     "output_type": "stream",
     "text": [
      "2023-02-13 15:09:05.257 | INFO     | __main__:<module>:8 - 4895\n",
      "2023-02-13 15:09:05.259 | INFO     | __main__:<module>:9 - 1200\n"
     ]
    }
   ],
   "source": [
    "text_features_train = []\n",
    "for text in TRAIN_SET.text:\n",
    "    features = [0] * len(word2vec)\n",
    "    words = text.split()\n",
    "    for word in words:\n",
    "        features[word2vec[word]] = 1\n",
    "    text_features_train.append(features)\n",
    "logger.info(len(text_features_train[0]))\n"
   ]
  },
  {
   "cell_type": "code",
   "execution_count": null,
   "metadata": {},
   "outputs": [
    {
     "name": "stderr",
     "output_type": "stream",
     "text": [
      "2023-02-13 15:09:05.904 | INFO     | __main__:<module>:8 - 4895\n",
      "2023-02-13 15:09:05.905 | INFO     | __main__:<module>:9 - 800\n"
     ]
    }
   ],
   "source": [
    "text_features_test = []\n",
    "for text in TEST_SET.text:\n",
    "    features = [0] * len(word2vec)\n",
    "    words = text.split()\n",
    "    for word in words:\n",
    "        features[word2vec[word]] = 1\n",
    "    text_features_test.append(features)\n",
    "logger.info(len(text_features_test[0]))\n",
    "logger.info(len(text_features_test))"
   ]
  },
  {
   "cell_type": "code",
   "execution_count": null,
   "metadata": {},
   "outputs": [],
   "source": [
    "emotions = [_ for _ in TRAIN_SET.emotions]\n",
    "# emotions_test = [_ for _ in TEST_SET.emotions]\n",
    "\n",
    "# emotion_set = set(emotions)\n",
    "emotion_set = set(emotions)\n",
    "\n",
    "emotion_to_int = {emotion: i for i, emotion in enumerate(emotion_set)}\n",
    "int_to_emotion = {i: emotion for i, emotion in enumerate(emotion_set)}"
   ]
  },
  {
   "cell_type": "code",
   "execution_count": null,
   "metadata": {},
   "outputs": [],
   "source": [
    "emotions = [emotion_to_int[emotion] for emotion in emotions]\n",
    "train_targets = np.zeros((len(emotions), len(emotion_set)))\n",
    "for i, emotion in enumerate(emotions):\n",
    "    train_targets[i, emotion] = 1"
   ]
  },
  {
   "cell_type": "code",
   "execution_count": null,
   "metadata": {},
   "outputs": [
    {
     "data": {
      "text/plain": [
       "(1200, 4895)"
      ]
     },
     "execution_count": 65,
     "metadata": {},
     "output_type": "execute_result"
    }
   ],
   "source": [
    "np.array(text_features_train).shape"
   ]
  },
  {
   "cell_type": "code",
   "execution_count": null,
   "metadata": {},
   "outputs": [
    {
     "name": "stderr",
     "output_type": "stream",
     "text": [
      "2023-02-13 15:12:26.809 | INFO     | __main__:<module>:12 - Epoch = 0\n",
      "2023-02-13 15:12:27.490 | INFO     | __main__:<module>:12 - Epoch = 1\n",
      "2023-02-13 15:12:28.124 | INFO     | __main__:<module>:12 - Epoch = 2\n",
      "2023-02-13 15:12:28.764 | INFO     | __main__:<module>:12 - Epoch = 3\n",
      "2023-02-13 15:12:29.396 | INFO     | __main__:<module>:12 - Epoch = 4\n",
      "2023-02-13 15:12:30.028 | INFO     | __main__:<module>:12 - Epoch = 5\n",
      "2023-02-13 15:12:30.669 | INFO     | __main__:<module>:12 - Epoch = 6\n",
      "2023-02-13 15:12:31.312 | INFO     | __main__:<module>:12 - Epoch = 7\n",
      "2023-02-13 15:12:31.951 | INFO     | __main__:<module>:12 - Epoch = 8\n",
      "2023-02-13 15:12:32.584 | INFO     | __main__:<module>:12 - Epoch = 9\n",
      "2023-02-13 15:12:33.215 | INFO     | __main__:<module>:12 - Epoch = 10\n",
      "2023-02-13 15:12:33.844 | INFO     | __main__:<module>:12 - Epoch = 11\n",
      "2023-02-13 15:12:34.460 | INFO     | __main__:<module>:12 - Epoch = 12\n",
      "2023-02-13 15:12:35.123 | INFO     | __main__:<module>:12 - Epoch = 13\n",
      "2023-02-13 15:12:35.833 | INFO     | __main__:<module>:12 - Epoch = 14\n",
      "2023-02-13 15:12:36.480 | INFO     | __main__:<module>:12 - Epoch = 15\n",
      "2023-02-13 15:12:37.104 | INFO     | __main__:<module>:12 - Epoch = 16\n",
      "2023-02-13 15:12:37.735 | INFO     | __main__:<module>:12 - Epoch = 17\n",
      "2023-02-13 15:12:38.365 | INFO     | __main__:<module>:12 - Epoch = 18\n",
      "2023-02-13 15:12:38.987 | INFO     | __main__:<module>:12 - Epoch = 19\n",
      "2023-02-13 15:12:39.621 | INFO     | __main__:<module>:12 - Epoch = 20\n",
      "2023-02-13 15:12:40.244 | INFO     | __main__:<module>:12 - Epoch = 21\n",
      "2023-02-13 15:12:40.871 | INFO     | __main__:<module>:12 - Epoch = 22\n",
      "2023-02-13 15:12:41.538 | INFO     | __main__:<module>:12 - Epoch = 23\n",
      "2023-02-13 15:12:42.163 | INFO     | __main__:<module>:12 - Epoch = 24\n",
      "2023-02-13 15:12:42.792 | INFO     | __main__:<module>:12 - Epoch = 25\n",
      "2023-02-13 15:12:43.422 | INFO     | __main__:<module>:12 - Epoch = 26\n",
      "2023-02-13 15:12:44.051 | INFO     | __main__:<module>:12 - Epoch = 27\n",
      "2023-02-13 15:12:44.680 | INFO     | __main__:<module>:12 - Epoch = 28\n",
      "2023-02-13 15:12:45.314 | INFO     | __main__:<module>:12 - Epoch = 29\n",
      "2023-02-13 15:12:45.939 | INFO     | __main__:<module>:12 - Epoch = 30\n",
      "2023-02-13 15:12:46.616 | INFO     | __main__:<module>:12 - Epoch = 31\n",
      "2023-02-13 15:12:47.262 | INFO     | __main__:<module>:12 - Epoch = 32\n",
      "2023-02-13 15:12:47.913 | INFO     | __main__:<module>:12 - Epoch = 33\n",
      "2023-02-13 15:12:48.549 | INFO     | __main__:<module>:12 - Epoch = 34\n",
      "2023-02-13 15:12:49.194 | INFO     | __main__:<module>:12 - Epoch = 35\n",
      "2023-02-13 15:12:49.840 | INFO     | __main__:<module>:12 - Epoch = 36\n",
      "2023-02-13 15:12:50.483 | INFO     | __main__:<module>:12 - Epoch = 37\n",
      "2023-02-13 15:12:51.112 | INFO     | __main__:<module>:12 - Epoch = 38\n",
      "2023-02-13 15:12:51.731 | INFO     | __main__:<module>:12 - Epoch = 39\n",
      "2023-02-13 15:12:52.370 | INFO     | __main__:<module>:12 - Epoch = 40\n",
      "2023-02-13 15:12:53.018 | INFO     | __main__:<module>:12 - Epoch = 41\n",
      "2023-02-13 15:12:53.665 | INFO     | __main__:<module>:12 - Epoch = 42\n",
      "2023-02-13 15:12:54.308 | INFO     | __main__:<module>:12 - Epoch = 43\n",
      "2023-02-13 15:12:54.934 | INFO     | __main__:<module>:12 - Epoch = 44\n",
      "2023-02-13 15:12:55.547 | INFO     | __main__:<module>:12 - Epoch = 45\n",
      "2023-02-13 15:12:56.166 | INFO     | __main__:<module>:12 - Epoch = 46\n",
      "2023-02-13 15:12:56.810 | INFO     | __main__:<module>:12 - Epoch = 47\n",
      "2023-02-13 15:12:57.443 | INFO     | __main__:<module>:12 - Epoch = 48\n",
      "2023-02-13 15:12:58.068 | INFO     | __main__:<module>:12 - Epoch = 49\n",
      "2023-02-13 15:12:58.684 | INFO     | __main__:<module>:12 - Epoch = 50\n",
      "2023-02-13 15:12:59.308 | INFO     | __main__:<module>:12 - Epoch = 51\n",
      "2023-02-13 15:12:59.930 | INFO     | __main__:<module>:12 - Epoch = 52\n",
      "2023-02-13 15:13:00.579 | INFO     | __main__:<module>:12 - Epoch = 53\n",
      "2023-02-13 15:13:01.232 | INFO     | __main__:<module>:12 - Epoch = 54\n",
      "2023-02-13 15:13:01.851 | INFO     | __main__:<module>:12 - Epoch = 55\n",
      "2023-02-13 15:13:02.471 | INFO     | __main__:<module>:12 - Epoch = 56\n",
      "2023-02-13 15:13:03.102 | INFO     | __main__:<module>:12 - Epoch = 57\n",
      "2023-02-13 15:13:03.725 | INFO     | __main__:<module>:12 - Epoch = 58\n",
      "2023-02-13 15:13:04.333 | INFO     | __main__:<module>:12 - Epoch = 59\n",
      "2023-02-13 15:13:04.934 | INFO     | __main__:<module>:12 - Epoch = 60\n",
      "2023-02-13 15:13:05.549 | INFO     | __main__:<module>:12 - Epoch = 61\n",
      "2023-02-13 15:13:06.164 | INFO     | __main__:<module>:12 - Epoch = 62\n",
      "2023-02-13 15:13:06.786 | INFO     | __main__:<module>:12 - Epoch = 63\n",
      "2023-02-13 15:13:07.408 | INFO     | __main__:<module>:12 - Epoch = 64\n",
      "2023-02-13 15:13:08.030 | INFO     | __main__:<module>:12 - Epoch = 65\n",
      "2023-02-13 15:13:08.648 | INFO     | __main__:<module>:12 - Epoch = 66\n",
      "2023-02-13 15:13:09.275 | INFO     | __main__:<module>:12 - Epoch = 67\n",
      "2023-02-13 15:13:09.902 | INFO     | __main__:<module>:12 - Epoch = 68\n",
      "2023-02-13 15:13:10.524 | INFO     | __main__:<module>:12 - Epoch = 69\n",
      "2023-02-13 15:13:11.165 | INFO     | __main__:<module>:12 - Epoch = 70\n",
      "2023-02-13 15:13:11.796 | INFO     | __main__:<module>:12 - Epoch = 71\n",
      "2023-02-13 15:13:12.422 | INFO     | __main__:<module>:12 - Epoch = 72\n",
      "2023-02-13 15:13:13.084 | INFO     | __main__:<module>:12 - Epoch = 73\n",
      "2023-02-13 15:13:13.704 | INFO     | __main__:<module>:12 - Epoch = 74\n",
      "2023-02-13 15:13:14.338 | INFO     | __main__:<module>:12 - Epoch = 75\n",
      "2023-02-13 15:13:14.959 | INFO     | __main__:<module>:12 - Epoch = 76\n",
      "2023-02-13 15:13:15.601 | INFO     | __main__:<module>:12 - Epoch = 77\n",
      "2023-02-13 15:13:16.249 | INFO     | __main__:<module>:12 - Epoch = 78\n",
      "2023-02-13 15:13:17.073 | INFO     | __main__:<module>:12 - Epoch = 79\n",
      "2023-02-13 15:13:17.848 | INFO     | __main__:<module>:12 - Epoch = 80\n",
      "2023-02-13 15:13:18.587 | INFO     | __main__:<module>:12 - Epoch = 81\n",
      "2023-02-13 15:13:19.425 | INFO     | __main__:<module>:12 - Epoch = 82\n",
      "2023-02-13 15:13:20.181 | INFO     | __main__:<module>:12 - Epoch = 83\n",
      "2023-02-13 15:13:20.921 | INFO     | __main__:<module>:12 - Epoch = 84\n",
      "2023-02-13 15:13:21.701 | INFO     | __main__:<module>:12 - Epoch = 85\n",
      "2023-02-13 15:13:22.374 | INFO     | __main__:<module>:12 - Epoch = 86\n",
      "2023-02-13 15:13:23.076 | INFO     | __main__:<module>:12 - Epoch = 87\n",
      "2023-02-13 15:13:23.802 | INFO     | __main__:<module>:12 - Epoch = 88\n",
      "2023-02-13 15:13:24.524 | INFO     | __main__:<module>:12 - Epoch = 89\n",
      "2023-02-13 15:13:25.184 | INFO     | __main__:<module>:12 - Epoch = 90\n",
      "2023-02-13 15:13:25.913 | INFO     | __main__:<module>:12 - Epoch = 91\n",
      "2023-02-13 15:13:26.661 | INFO     | __main__:<module>:12 - Epoch = 92\n",
      "2023-02-13 15:13:27.383 | INFO     | __main__:<module>:12 - Epoch = 93\n",
      "2023-02-13 15:13:28.107 | INFO     | __main__:<module>:12 - Epoch = 94\n",
      "2023-02-13 15:13:28.826 | INFO     | __main__:<module>:12 - Epoch = 95\n",
      "2023-02-13 15:13:29.546 | INFO     | __main__:<module>:12 - Epoch = 96\n",
      "2023-02-13 15:13:30.193 | INFO     | __main__:<module>:12 - Epoch = 97\n",
      "2023-02-13 15:13:30.879 | INFO     | __main__:<module>:12 - Epoch = 98\n",
      "2023-02-13 15:13:31.572 | INFO     | __main__:<module>:12 - Epoch = 99\n"
     ]
    }
   ],
   "source": [
    "weights = np.zeros((len(word2vec), len(emotion_set)))\n",
    "learning_rate = 0.01\n",
    "num_epochs = 100\n",
    "for epoch in range(num_epochs):\n",
    "    scores = np.dot(np.array(text_features_train), weights)\n",
    "    predictions = 1 / (1 + np.exp(-scores))\n",
    "    # logger.debug(np.array(predictions).shape)\n",
    "    # logger.debug(np.array(train_targets).shape)\n",
    "    error = train_targets - predictions\n",
    "    gradient = np.dot(np.array(text_features_train).T, error)\n",
    "    weights += learning_rate * gradient\n",
    "    logger.info(f\"Epoch = {epoch}\")\n",
    "\n",
    "# Predict emotions for the test data\n",
    "scores = np.dot(text_features_test, weights)\n",
    "predictions = 1 / (1 + np.exp(-scores))\n",
    "predictions = np.round(predictions)\n",
    "predicted_emotion = int_to_emotion[np.argmax(predictions[0])]"
   ]
  },
  {
   "cell_type": "code",
   "execution_count": null,
   "metadata": {},
   "outputs": [],
   "source": [
    "pred_emotion = []\n",
    "\n",
    "scores = np.dot(text_features_test, weights)\n",
    "predictions = 1 / (1 + np.exp(-scores))\n",
    "# logger.debug(predictions)\n",
    "# predictions = np.ones(predictions.shape) * np.argmax(predictions, axis=1)\n",
    "# len(np.argmax(predictions, axis=1))\n",
    "pred = np.zeros(predictions.shape)\n",
    "for idx in range(pred.shape[0]):\n",
    "    # logger.debug(np.argmax(predictions, axis=1)[idx])\n",
    "    pred[idx][np.argmax(predictions, axis=1)[idx]] = 1\n",
    "\n",
    "for idx in range(pred.shape[0]):\n",
    "    # logger.debug(np.where(pred[idx]==1))\n",
    "    \n",
    "    # logger.debug(int_to_emotion[np.where(pred[idx]==1)[0][0]])\n",
    "    pred_emotion.append(int_to_emotion[np.where(pred[idx]==1)[0][0]])\n",
    "# predictions = np.argmax(predictions)\n",
    "# predicted_emotion = int_to_emotion[np.argmax(predictions[0])]\n"
   ]
  },
  {
   "cell_type": "code",
   "execution_count": null,
   "metadata": {},
   "outputs": [],
   "source": [
    "dataset['emotions'] = pred_emotion\n",
    "dataset.to_csv(\"./test_lg.csv\")"
   ]
  },
  {
   "cell_type": "code",
   "execution_count": null,
   "metadata": {},
   "outputs": [
    {
     "data": {
      "text/html": [
       "<div>\n",
       "<style scoped>\n",
       "    .dataframe tbody tr th:only-of-type {\n",
       "        vertical-align: middle;\n",
       "    }\n",
       "\n",
       "    .dataframe tbody tr th {\n",
       "        vertical-align: top;\n",
       "    }\n",
       "\n",
       "    .dataframe thead th {\n",
       "        text-align: right;\n",
       "    }\n",
       "</style>\n",
       "<table border=\"1\" class=\"dataframe\">\n",
       "  <thead>\n",
       "    <tr style=\"text-align: right;\">\n",
       "      <th></th>\n",
       "      <th>id</th>\n",
       "      <th>text</th>\n",
       "      <th>emotions</th>\n",
       "    </tr>\n",
       "  </thead>\n",
       "  <tbody>\n",
       "    <tr>\n",
       "      <th>0</th>\n",
       "      <td>139312</td>\n",
       "      <td>ive been feeling more optimistic this week tha...</td>\n",
       "      <td>sadness</td>\n",
       "    </tr>\n",
       "    <tr>\n",
       "      <th>1</th>\n",
       "      <td>110362</td>\n",
       "      <td>i suppose i was feeling adventurous and volunt...</td>\n",
       "      <td>joy</td>\n",
       "    </tr>\n",
       "    <tr>\n",
       "      <th>2</th>\n",
       "      <td>45691</td>\n",
       "      <td>i feel like when a cycle comes i get all depre...</td>\n",
       "      <td>sadness</td>\n",
       "    </tr>\n",
       "    <tr>\n",
       "      <th>3</th>\n",
       "      <td>958</td>\n",
       "      <td>when confronted and in my opinion hassled by t...</td>\n",
       "      <td>anger</td>\n",
       "    </tr>\n",
       "    <tr>\n",
       "      <th>4</th>\n",
       "      <td>33882</td>\n",
       "      <td>i seldom feel shaky mid run</td>\n",
       "      <td>fear</td>\n",
       "    </tr>\n",
       "    <tr>\n",
       "      <th>...</th>\n",
       "      <td>...</td>\n",
       "      <td>...</td>\n",
       "      <td>...</td>\n",
       "    </tr>\n",
       "    <tr>\n",
       "      <th>795</th>\n",
       "      <td>566</td>\n",
       "      <td>that was what i felt when i was finally accept...</td>\n",
       "      <td>joy</td>\n",
       "    </tr>\n",
       "    <tr>\n",
       "      <th>796</th>\n",
       "      <td>36236</td>\n",
       "      <td>i take every day as it comes i m just focussin...</td>\n",
       "      <td>sadness</td>\n",
       "    </tr>\n",
       "    <tr>\n",
       "      <th>797</th>\n",
       "      <td>76229</td>\n",
       "      <td>i just suddenly feel that everything was fake</td>\n",
       "      <td>sadness</td>\n",
       "    </tr>\n",
       "    <tr>\n",
       "      <th>798</th>\n",
       "      <td>131640</td>\n",
       "      <td>im feeling more eager than ever to claw back w...</td>\n",
       "      <td>joy</td>\n",
       "    </tr>\n",
       "    <tr>\n",
       "      <th>799</th>\n",
       "      <td>64703</td>\n",
       "      <td>i give you plenty of attention even when i fee...</td>\n",
       "      <td>sadness</td>\n",
       "    </tr>\n",
       "  </tbody>\n",
       "</table>\n",
       "<p>800 rows × 3 columns</p>\n",
       "</div>"
      ],
      "text/plain": [
       "         id                                               text emotions\n",
       "0    139312  ive been feeling more optimistic this week tha...  sadness\n",
       "1    110362  i suppose i was feeling adventurous and volunt...      joy\n",
       "2     45691  i feel like when a cycle comes i get all depre...  sadness\n",
       "3       958  when confronted and in my opinion hassled by t...    anger\n",
       "4     33882                        i seldom feel shaky mid run     fear\n",
       "..      ...                                                ...      ...\n",
       "795     566  that was what i felt when i was finally accept...      joy\n",
       "796   36236  i take every day as it comes i m just focussin...  sadness\n",
       "797   76229      i just suddenly feel that everything was fake  sadness\n",
       "798  131640  im feeling more eager than ever to claw back w...      joy\n",
       "799   64703  i give you plenty of attention even when i fee...  sadness\n",
       "\n",
       "[800 rows x 3 columns]"
      ]
     },
     "execution_count": 124,
     "metadata": {},
     "output_type": "execute_result"
    }
   ],
   "source": [
    "dataset"
   ]
  },
  {
   "cell_type": "code",
   "execution_count": null,
   "metadata": {},
   "outputs": [],
   "source": []
  },
  {
   "cell_type": "code",
   "execution_count": null,
   "metadata": {},
   "outputs": [],
   "source": [
    "def sigmoid(x: float):\n",
    "    # Logistic regression function (Sigmoid)\n",
    "    output = 1 / (1 + np.exp(-x))\n",
    "    return output\n",
    "\n",
    "\n",
    "def read_csv(path: str) -> pd.DataFrame:\n",
    "    file = pd.read_csv(path)\n",
    "    return file"
   ]
  },
  {
   "cell_type": "code",
   "execution_count": 104,
   "metadata": {},
   "outputs": [],
   "source": [
    "def data_cleaning(dataset: pd.DataFrame) -> None:\n",
    "    '''\n",
    "        Clean the duplicated entries\n",
    "    '''\n",
    "    dataset = dataset.sort_values(\"id\")\n",
    "    dataset_dup = dataset.duplicated(subset=[\"id\"])\n",
    "    index = np.where(dataset_dup==True)\n",
    "    # logger.debug(dataset.head())\n",
    "    dataset = dataset.drop(index[0])\n",
    "    # logger.debug(dataset.head())\n",
    "    dataset = dataset.sample(frac=1)\n",
    "    return dataset"
   ]
  },
  {
   "cell_type": "code",
   "execution_count": 105,
   "metadata": {},
   "outputs": [],
   "source": [
    "def data_loading(epoch, num_epochs):\n",
    "    # Load raw dataset\n",
    "    TRAIN_PATH = \"./train.csv\"\n",
    "    TEST_PATH = \"./test.csv\"\n",
    "    train_set = read_csv(TRAIN_PATH)\n",
    "    test_set = read_csv(TEST_PATH)\n",
    "    \n",
    "    # data cleaning\n",
    "    train_set = data_cleaning(train_set)\n",
    "    test_set = data_cleaning(test_set)\n",
    "    \n",
    "    # logger.info(f\"After data cleaning, len(train_set) is {len(train_set)}, len(test_set) is {len(test_set)}\")\n",
    "\n",
    "    # Cross validation\n",
    "    # logger.debug(train_set)\n",
    "    df_shuffle = train_set.copy()\n",
    "    # logger.debug(df_shuffle)\n",
    "    # logger.info(len(df_shuffle))\n",
    "    df_size = len(df_shuffle)\n",
    "    idx_split_left = df_size//num_epochs * (epoch)\n",
    "    idx_split_right = df_size//num_epochs * (epoch+1)\n",
    "    train_set = pd.concat([df_shuffle.iloc[:idx_split_left], df_shuffle.iloc[idx_split_right:]])\n",
    "    val_set = df_shuffle.iloc[idx_split_left:idx_split_right]\n",
    "    return train_set, val_set, test_set"
   ]
  },
  {
   "cell_type": "code",
   "execution_count": 106,
   "metadata": {},
   "outputs": [
    {
     "name": "stderr",
     "output_type": "stream",
     "text": [
      "2023-02-28 23:45:36.291 | DEBUG    | __main__:<module>:4 -           id                                               text  emotions\n",
      "601     3021                        i feel a lil dazed actually  surprise\n",
      "557   121857  i was rusty but i feel like i flowed ok for mo...       joy\n",
      "994    97315  i used to think that i was protecting people b...   sadness\n",
      "1185    7295  i feel weird working out in front of my family...  surprise\n",
      "463    12560  i can post questions or comments and then sche...   sadness\n",
      "...      ...                                                ...       ...\n",
      "12     98659  i mean is on this stupid trip of making the gr...       joy\n",
      "57     66949  i had my week appointment yesterday and left f...   sadness\n",
      "1068  109114  i still feel anything but strong but i am also...       joy\n",
      "795    77413  i know how you are feeling that you feel hopel...   sadness\n",
      "1186   18552         i continue to feel terrific thanks so much       joy\n",
      "\n",
      "[1195 rows x 3 columns]\n"
     ]
    }
   ],
   "source": [
    "num_epochs = 10\n",
    "for epoch in range(num_epochs):\n",
    "    train_set, val_set, test_set = data_loading(epoch, num_epochs)\n",
    "    logger.debug(df_shuffle)\n",
    "    break\n",
    "    # logger.debug(f\"{len(train_set)}, {len(val_set)}, {len(test_set)}\")"
   ]
  },
  {
   "cell_type": "code",
   "execution_count": 107,
   "metadata": {},
   "outputs": [
    {
     "data": {
      "text/html": [
       "<div>\n",
       "<style scoped>\n",
       "    .dataframe tbody tr th:only-of-type {\n",
       "        vertical-align: middle;\n",
       "    }\n",
       "\n",
       "    .dataframe tbody tr th {\n",
       "        vertical-align: top;\n",
       "    }\n",
       "\n",
       "    .dataframe thead th {\n",
       "        text-align: right;\n",
       "    }\n",
       "</style>\n",
       "<table border=\"1\" class=\"dataframe\">\n",
       "  <thead>\n",
       "    <tr style=\"text-align: right;\">\n",
       "      <th></th>\n",
       "      <th>id</th>\n",
       "      <th>text</th>\n",
       "      <th>emotions</th>\n",
       "    </tr>\n",
       "  </thead>\n",
       "  <tbody>\n",
       "    <tr>\n",
       "      <th>138</th>\n",
       "      <td>12530</td>\n",
       "      <td>i feel like the puppets are more of an obstacl...</td>\n",
       "      <td>love</td>\n",
       "    </tr>\n",
       "    <tr>\n",
       "      <th>116</th>\n",
       "      <td>113942</td>\n",
       "      <td>i took was blurry which kind of captures my fe...</td>\n",
       "      <td>joy</td>\n",
       "    </tr>\n",
       "    <tr>\n",
       "      <th>38</th>\n",
       "      <td>33835</td>\n",
       "      <td>i see things so clearly and with so much depth...</td>\n",
       "      <td>fear</td>\n",
       "    </tr>\n",
       "    <tr>\n",
       "      <th>435</th>\n",
       "      <td>33801</td>\n",
       "      <td>i have achieved very little but somehow for a ...</td>\n",
       "      <td>anger</td>\n",
       "    </tr>\n",
       "    <tr>\n",
       "      <th>240</th>\n",
       "      <td>120714</td>\n",
       "      <td>ive made and provided that someone would under...</td>\n",
       "      <td>sadness</td>\n",
       "    </tr>\n",
       "    <tr>\n",
       "      <th>...</th>\n",
       "      <td>...</td>\n",
       "      <td>...</td>\n",
       "      <td>...</td>\n",
       "    </tr>\n",
       "    <tr>\n",
       "      <th>814</th>\n",
       "      <td>10443</td>\n",
       "      <td>i read two of the books from my march tbr stac...</td>\n",
       "      <td>surprise</td>\n",
       "    </tr>\n",
       "    <tr>\n",
       "      <th>733</th>\n",
       "      <td>3997</td>\n",
       "      <td>i am able because he wants to make the individ...</td>\n",
       "      <td>joy</td>\n",
       "    </tr>\n",
       "    <tr>\n",
       "      <th>381</th>\n",
       "      <td>105550</td>\n",
       "      <td>i will even feel highly disturbed because i am...</td>\n",
       "      <td>sadness</td>\n",
       "    </tr>\n",
       "    <tr>\n",
       "      <th>1150</th>\n",
       "      <td>19608</td>\n",
       "      <td>i feel skeptical about small accessories</td>\n",
       "      <td>fear</td>\n",
       "    </tr>\n",
       "    <tr>\n",
       "      <th>279</th>\n",
       "      <td>4631</td>\n",
       "      <td>i could feel the desperation of the longing se...</td>\n",
       "      <td>love</td>\n",
       "    </tr>\n",
       "  </tbody>\n",
       "</table>\n",
       "<p>1076 rows × 3 columns</p>\n",
       "</div>"
      ],
      "text/plain": [
       "          id                                               text  emotions\n",
       "138    12530  i feel like the puppets are more of an obstacl...      love\n",
       "116   113942  i took was blurry which kind of captures my fe...       joy\n",
       "38     33835  i see things so clearly and with so much depth...      fear\n",
       "435    33801  i have achieved very little but somehow for a ...     anger\n",
       "240   120714  ive made and provided that someone would under...   sadness\n",
       "...      ...                                                ...       ...\n",
       "814    10443  i read two of the books from my march tbr stac...  surprise\n",
       "733     3997  i am able because he wants to make the individ...       joy\n",
       "381   105550  i will even feel highly disturbed because i am...   sadness\n",
       "1150   19608           i feel skeptical about small accessories      fear\n",
       "279     4631  i could feel the desperation of the longing se...      love\n",
       "\n",
       "[1076 rows x 3 columns]"
      ]
     },
     "execution_count": 107,
     "metadata": {},
     "output_type": "execute_result"
    }
   ],
   "source": [
    "train_set"
   ]
  },
  {
   "cell_type": "code",
   "execution_count": 108,
   "metadata": {},
   "outputs": [],
   "source": [
    "def feature_rep(train_set, val_set, test_set):\n",
    "    # Create feature representations for data\n",
    "    word2vec = {}\n",
    "    word_set = {}\n",
    "    word_all = []\n",
    "    idx = 0\n",
    "    # logger.debug(train_set)\n",
    "    for dataset in (train_set, val_set, test_set):\n",
    "        for text in dataset.text:\n",
    "            words = text.split()\n",
    "            for word in words:\n",
    "                if word not in word2vec:\n",
    "                    word_all.append(word)\n",
    "                    word2vec[word] = idx\n",
    "                    idx += 1\n",
    "        word_set = set(word_all)\n",
    "        # logger.debug(idx)\n",
    "    # logger.info(len(word2vec))\n",
    "    # logger.info(len(word_set))\n",
    "        # print(text)\n",
    "        # break\n",
    "    return word2vec\n",
    "\n",
    "\n",
    "def text_features(dataset, embedding):\n",
    "    text_features = []\n",
    "    for text in dataset.text:\n",
    "        features = [0] * len(embedding)\n",
    "        words = text.split()\n",
    "        for word in words:\n",
    "            features[embedding[word]] = 1\n",
    "        text_features.append(features)\n",
    "    # logger.info(len(text_features[0]))\n",
    "    # logger.info(len(text_features))\n",
    "    return text_features"
   ]
  },
  {
   "cell_type": "code",
   "execution_count": 152,
   "metadata": {},
   "outputs": [],
   "source": [
    "def softmax(x):\n",
    "      ex = np.exp(x - np.max(x))\n",
    "      return ex/ex.sum()"
   ]
  },
  {
   "cell_type": "code",
   "execution_count": 110,
   "metadata": {},
   "outputs": [],
   "source": [
    "def pre_processing(train_set: pd.DataFrame, val_set: pd.DataFrame, test_set: pd.DataFrame):\n",
    "    \n",
    "    embedding = feature_rep(train_set, val_set, test_set)\n",
    "    # Create trianing and testing inputs\n",
    "    text_features_train = text_features(train_set, embedding)\n",
    "    text_features_val = text_features(val_set, embedding)\n",
    "    text_features_test = text_features(test_set, embedding)\n",
    "    \n",
    "    # Create labels\n",
    "    emotions_train = [_ for _ in train_set.emotions]\n",
    "    emotions_val = [_ for _ in val_set.emotions]\n",
    "\n",
    "    emotion_set = set(emotions_train)\n",
    "\n",
    "    emotion2int = {emotion: i for i, emotion in enumerate(emotion_set)}\n",
    "    int2emotion = {i: emotion for i, emotion in enumerate(emotion_set)}\n",
    "    \n",
    "    emotions_train = [emotion2int[emotion] for emotion in emotions_train]\n",
    "    emotions_val = [emotion2int[emotion] for emotion in emotions_val]\n",
    "    train_targets = np.zeros((len(emotions_train), len(emotion_set)))\n",
    "    val_targets = np.zeros((len(emotions_val), len(emotion_set)))\n",
    "    for i, emotion in enumerate(emotions_train):\n",
    "        train_targets[i, emotion] = 1\n",
    "    for i, emotion in enumerate(emotions_val):\n",
    "        val_targets[i, emotion] = 1\n",
    "\n",
    "    return embedding, text_features_train, text_features_val, text_features_test,\\\n",
    "        emotion_set, train_targets, val_targets, emotion2int, int2emotion\n",
    "\n",
    "\n",
    "def post_processing(test_set, pred_emotions):\n",
    "    output = test_set.copy()\n",
    "    output['emotions'] = pred_emotions\n",
    "    output.to_csv(\"./test_lr.csv\")\n",
    "    return output"
   ]
  },
  {
   "cell_type": "code",
   "execution_count": 189,
   "metadata": {},
   "outputs": [
    {
     "ename": "KeyboardInterrupt",
     "evalue": "",
     "output_type": "error",
     "traceback": [
      "\u001b[0;31m---------------------------------------------------------------------------\u001b[0m",
      "\u001b[0;31mKeyboardInterrupt\u001b[0m                         Traceback (most recent call last)",
      "Cell \u001b[0;32mIn[189], line 45\u001b[0m\n\u001b[1;32m     43\u001b[0m error \u001b[39m=\u001b[39m np\u001b[39m.\u001b[39msum(np\u001b[39m.\u001b[39mabs(train_targets \u001b[39m-\u001b[39m predictions))\n\u001b[1;32m     44\u001b[0m errors_train\u001b[39m.\u001b[39mappend(error)\n\u001b[0;32m---> 45\u001b[0m gradient \u001b[39m=\u001b[39m np\u001b[39m.\u001b[39mdot(np\u001b[39m.\u001b[39;49marray(text_features_train)\u001b[39m.\u001b[39mT, error) \u001b[39m+\u001b[39m reg_lambda \u001b[39m*\u001b[39m weights\n\u001b[1;32m     46\u001b[0m weights \u001b[39m+\u001b[39m\u001b[39m=\u001b[39m learning_rate \u001b[39m*\u001b[39m gradient\n\u001b[1;32m     49\u001b[0m \u001b[39m# evaluation on val_set\u001b[39;00m\n",
      "\u001b[0;31mKeyboardInterrupt\u001b[0m: "
     ]
    }
   ],
   "source": [
    "TRAIN_PATH = \"./train.csv\"\n",
    "TEST_PATH = \"./test.csv\"\n",
    "train_set = read_csv(TRAIN_PATH)\n",
    "test_set = read_csv(TEST_PATH)\n",
    "val_set = read_csv(TRAIN_PATH)\n",
    "train_set = data_cleaning(train_set)\n",
    "val_set = data_cleaning(val_set)\n",
    "test_set = data_cleaning(test_set)\n",
    "embedding, _, _, text_features_test,\\\n",
    "        emotion_set, _, _, emotion2int, int2emotion = pre_processing(train_set, val_set, test_set)\n",
    "# your logistic regression \n",
    "\n",
    "learning_rate = 0.001\n",
    "num_epochs = 150\n",
    "reg_lambda = 0.0001\n",
    "iters = 5\n",
    "\n",
    "errors_train = []\n",
    "errors_val = []\n",
    "\n",
    "# weights = np.zeros((len(embedding), len(emotion_set)))\n",
    "best_score = 0\n",
    "score_arr = []\n",
    "for iter_num in range(iters):\n",
    "  train_set, val_set, test_set = data_loading(iter_num, iters)\n",
    "  _, text_features_train, text_features_val, _,\\\n",
    "        _, train_targets, val_targets, _, _ = pre_processing(train_set, val_set, test_set)\n",
    "  weights = np.zeros((len(embedding), len(emotion_set)))\n",
    "  scores = []\n",
    "  for epoch in range(num_epochs):\n",
    "      # Cross validation\n",
    "      \n",
    "      # text_features_train = text_features(train_set, embedding)\n",
    "      # text_features_val = text_features(val_set, embedding)\n",
    "      # text_features_test = text_features(test_set, embedding)\n",
    "\n",
    "\n",
    "      output = np.dot(np.array(text_features_train), weights)\n",
    "      # Logistic regression function (Sigmoid)\n",
    "      predictions = sigmoid(output)\n",
    "      # logger.debug(np.array(predictions).shape)\n",
    "      # logger.debug(np.array(train_targets).shape)\n",
    "      error = np.square(train_targets - predictions)\n",
    "      errors_train.append(error)\n",
    "      gradient = (1/len(train_targets)) * np.dot(np.array(text_features_train).T, error) + reg_lambda * weights\n",
    "      weights += learning_rate * gradient\n",
    "      \n",
    "          \n",
    "      # evaluation on val_set\n",
    "      pred_val = sigmoid(np.dot(np.array(text_features_val), weights))\n",
    "      error_val = np.sum(np.abs(val_targets - pred_val))\n",
    "      # logger.debug(pred_val.shape)\n",
    "      # logger.debug(val_targets.shape)\n",
    "      # largest_idx = np.argmax(pred_val)\n",
    "      # pred = np.eye(pred_val.shape[1])[np.argmax(pred_val, axis=1)]\n",
    "      # logger.debug(pred)\n",
    "      # pred[largest_idx] = 1\n",
    "      errors_val.append(error_val)\n",
    "      \n",
    "      predictions = sigmoid(pred_val)\n",
    "      # predictions = 1 / (1 + np.exp(-pred_val))\n",
    "      # logger.debug(predictions)\n",
    "      largest_idx = np.argmax(predictions, axis=1)\n",
    "      # logger.debug(largest_idx)\n",
    "      val_pred = np.eye(predictions.shape[1])[largest_idx]\n",
    "      # logger.debug(np.argmax(val_pred))\n",
    "      predicted_emotions = []\n",
    "      for pred_emotion in np.argmax(val_pred, axis=1):      \n",
    "        predicted_emotions.append(int2emotion[pred_emotion])\n",
    "\n",
    "      val_emotions = []\n",
    "      for val_emotion in np.argmax(val_targets, axis=1):\n",
    "        val_emotions.append(int2emotion[val_emotion])\n",
    "      # val_emotions = int2emotion[np.argmax(val_targets, axis=1)]\n",
    "      # logger.debug(predicted_emotions)\n",
    "      # logger.debug(val_emotions)\n",
    "      count = 0\n",
    "      for i in range(len(predicted_emotions)):\n",
    "        if predicted_emotions[i] == val_emotions[i]:\n",
    "            count += 1\n",
    "      \n",
    "      score = count / len(val_targets)\n",
    "      scores.append(score)\n",
    "      # if score > 0:\n",
    "          # logger.debug(predicted_emotion)\n",
    "      logger.info(f\"Epoch {epoch}: Accuracy = {score * 100:.2f}%\")\n",
    "      # break\n",
    "  if score == 0 or score > best_score:\n",
    "    best_weights = weights\n",
    "    best_score = score\n",
    "  score_arr.append(scores)\n",
    "  logger.info(f\"Best Accuracy = {best_score * 100:.2f}%\")\n",
    "\n",
    "    # break\n",
    "# logger.debug(errors_train)\n",
    "# logger.debug(errors_val)"
   ]
  },
  {
   "cell_type": "code",
   "execution_count": 187,
   "metadata": {},
   "outputs": [],
   "source": [
    "pred_test = sigmoid(np.dot(np.array(text_features_test), best_weights))\n",
    "\n",
    "predictions = sigmoid(pred_test)\n",
    "largest_idx = np.argmax(predictions, axis=1)\n",
    "# logger.debug(largest_idx)\n",
    "test_pred = np.eye(predictions.shape[1])[largest_idx]\n",
    "# logger.debug(np.argmax(val_pred))\n",
    "predicted_emotions = []\n",
    "for pred_emotion in np.argmax(test_pred, axis=1):      \n",
    "    predicted_emotions.append(int2emotion[pred_emotion])\n",
    "\n",
    "test_set['emotions'] = predicted_emotions\n",
    "test_set.to_csv(\"./test_lg.csv\")"
   ]
  },
  {
   "cell_type": "code",
   "execution_count": 184,
   "metadata": {},
   "outputs": [
    {
     "data": {
      "image/png": "[encoded data removed]",
      "text/plain": [
       "<Figure size 640x480 with 1 Axes>"
      ]
     },
     "metadata": {},
     "output_type": "display_data"
    }
   ],
   "source": [
    "# learning_rate = 0.001\n",
    "# num_epochs = 150\n",
    "# reg_lambda = 0.0001\n",
    "# iters = 5\n",
    "import matplotlib.pyplot as plt\n",
    "for scores in score_arr:\n",
    "    plt.plot(np.arange(len(scores)), scores)\n",
    "    plt.title(f\"{iters}-fold Cross Validation, lr={learning_rate}, lambda={reg_lambda}\")\n",
    "    plt.xlabel(\"Epochs\")\n",
    "    plt.ylabel(\"Validation Accuracy\")\n",
    "    plt.savefig(f\"LR_{iters}-fold Cross Validation, lr={learning_rate}, lambda={reg_lambda}.png\")"
   ]
  },
  {
   "cell_type": "code",
   "execution_count": 179,
   "metadata": {},
   "outputs": [
    {
     "ename": "AttributeError",
     "evalue": "module 'matplotlib.pyplot' has no attribute 'xlable'",
     "output_type": "error",
     "traceback": [
      "\u001b[0;31m---------------------------------------------------------------------------\u001b[0m",
      "\u001b[0;31mAttributeError\u001b[0m                            Traceback (most recent call last)",
      "Cell \u001b[0;32mIn[179], line 8\u001b[0m\n\u001b[1;32m      6\u001b[0m \u001b[39mfor\u001b[39;00m scores \u001b[39min\u001b[39;00m score_arr:\n\u001b[1;32m      7\u001b[0m     plt\u001b[39m.\u001b[39mplot(np\u001b[39m.\u001b[39marange(\u001b[39mlen\u001b[39m(scores)), scores)\n\u001b[0;32m----> 8\u001b[0m     plt\u001b[39m.\u001b[39;49mxlable(\u001b[39m\"\u001b[39m\u001b[39mEpochs\u001b[39m\u001b[39m\"\u001b[39m)\n\u001b[1;32m      9\u001b[0m     plt\u001b[39m.\u001b[39mylabel(\u001b[39m\"\u001b[39m\u001b[39mValidation Accuracy\u001b[39m\u001b[39m\"\u001b[39m)\n",
      "\u001b[0;31mAttributeError\u001b[0m: module 'matplotlib.pyplot' has no attribute 'xlable'"
     ]
    },
    {
     "data": {
      "image/png": "[encoded data removed]",
      "text/plain": [
       "<Figure size 640x480 with 1 Axes>"
      ]
     },
     "metadata": {},
     "output_type": "display_data"
    }
   ],
   "source": [
    "# learning_rate = 0.001\n",
    "# num_epochs = 50\n",
    "# reg_lambda = 0.01\n",
    "# iters = 4\n",
    "import matplotlib.pyplot as plt\n",
    "for scores in score_arr:\n",
    "    plt.plot(np.arange(len(scores)), scores)"
   ]
  }
 ],
 "metadata": {
  "kernelspec": {
   "display_name": "cs577",
   "language": "python",
   "name": "python3"
  },
  "language_info": {
   "codemirror_mode": {
    "name": "ipython",
    "version": 3
   },
   "file_extension": ".py",
   "mimetype": "text/x-python",
   "name": "python",
   "nbconvert_exporter": "python",
   "pygments_lexer": "ipython3",
   "version": "3.8.16"
  },
  "orig_nbformat": 4,
  "vscode": {
   "interpreter": {
    "hash": "cce05cc41e51c76494075da45dd5ce6d27471df880765b5e87f79f8482f0d668"
   }
  }
 },
 "nbformat": 4,
 "nbformat_minor": 2
}
