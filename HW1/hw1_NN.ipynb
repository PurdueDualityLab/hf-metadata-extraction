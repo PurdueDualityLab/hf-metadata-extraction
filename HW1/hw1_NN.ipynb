{
 "cells": [
  {
   "cell_type": "code",
   "execution_count": 11,
   "metadata": {},
   "outputs": [],
   "source": [
    "import numpy as np\n",
    "import pandas as pd\n",
    "\n",
    "from loguru import logger"
   ]
  },
  {
   "cell_type": "code",
   "execution_count": 3,
   "metadata": {},
   "outputs": [],
   "source": [
    "\n",
    "class NN:\n",
    "    def __init__(self, layer_sizes):\n",
    "        self.layer_sizes = layer_sizes\n",
    "        self.weights = [np.random.randn(layer_sizes[i], layer_sizes[i+1]) for i in range(len(layer_sizes)-1)]\n",
    "        self.biases = [np.zeros(layer_sizes[i+1]) for i in range(len(layer_sizes)-1)]\n",
    "    \n",
    "    def layers(self):\n",
    "        return [(self.weights[i], self.biases[i]) for i in range(len(self.layer_sizes)-1)]\n",
    "    \n",
    "    def forward(self, X):\n",
    "        activations = [X]\n",
    "        for i in range(len(self.layer_sizes)-1):\n",
    "            z = np.dot(activations[-1], self.weights[i]) + self.biases[i]\n",
    "            activation = np.maximum(0, z) # ReLU activation\n",
    "            activations.append(activation)\n",
    "        return activations\n",
    "    \n",
    "    def backward(self, X, y):\n",
    "        activations = self.forward(X)\n",
    "        d_activations = [2*(activations[-1] - y)]\n",
    "        d_weights = []\n",
    "        d_biases = []\n",
    "        for i in range(len(self.layer_sizes)-2, -1, -1):\n",
    "            d_activation = d_activations[0]\n",
    "            z = np.dot(activations[i], self.weights[i]) + self.biases[i]\n",
    "            d_z = d_activation * (z > 0).astype(float) # ReLU derivative\n",
    "            d_weight = np.dot(activations[i].T, d_z)\n",
    "            d_bias = np.sum(d_z, axis=0)\n",
    "            d_activations.insert(0, np.dot(d_z, self.weights[i].T))\n",
    "            d_weights.insert(0, d_weight)\n",
    "            d_biases.insert(0, d_bias)\n",
    "        return d_weights, d_biases\n",
    "    \n",
    "    def train(self, X, y, learning_rate=0.1, num_epochs=1000):\n",
    "        for epoch in range(num_epochs):\n",
    "            d_weights, d_biases = self.backward(X, y)\n",
    "            for i in range(len(self.layer_sizes)-1):\n",
    "                self.weights[i] -= learning_rate * d_weights[i]\n",
    "                self.biases[i] -= learning_rate * d_biases[i]\n",
    "    \n",
    "    def predict(self, X):\n",
    "        activations = self.forward(X)\n",
    "        return activations[-1]\n"
   ]
  },
  {
   "cell_type": "code",
   "execution_count": 15,
   "metadata": {},
   "outputs": [
    {
     "data": {
      "text/html": [
       "<div>\n",
       "<style scoped>\n",
       "    .dataframe tbody tr th:only-of-type {\n",
       "        vertical-align: middle;\n",
       "    }\n",
       "\n",
       "    .dataframe tbody tr th {\n",
       "        vertical-align: top;\n",
       "    }\n",
       "\n",
       "    .dataframe thead th {\n",
       "        text-align: right;\n",
       "    }\n",
       "</style>\n",
       "<table border=\"1\" class=\"dataframe\">\n",
       "  <thead>\n",
       "    <tr style=\"text-align: right;\">\n",
       "      <th></th>\n",
       "      <th>id</th>\n",
       "      <th>text</th>\n",
       "      <th>emotions</th>\n",
       "    </tr>\n",
       "  </thead>\n",
       "  <tbody>\n",
       "    <tr>\n",
       "      <th>0</th>\n",
       "      <td>27383</td>\n",
       "      <td>i feel awful about it too because it s my job ...</td>\n",
       "      <td>sadness</td>\n",
       "    </tr>\n",
       "    <tr>\n",
       "      <th>1</th>\n",
       "      <td>110083</td>\n",
       "      <td>im alone i feel awful</td>\n",
       "      <td>sadness</td>\n",
       "    </tr>\n",
       "    <tr>\n",
       "      <th>2</th>\n",
       "      <td>140764</td>\n",
       "      <td>ive probably mentioned this before but i reall...</td>\n",
       "      <td>joy</td>\n",
       "    </tr>\n",
       "    <tr>\n",
       "      <th>3</th>\n",
       "      <td>100071</td>\n",
       "      <td>i was feeling a little low few days back</td>\n",
       "      <td>sadness</td>\n",
       "    </tr>\n",
       "    <tr>\n",
       "      <th>4</th>\n",
       "      <td>2837</td>\n",
       "      <td>i beleive that i am much more sensitive to oth...</td>\n",
       "      <td>love</td>\n",
       "    </tr>\n",
       "  </tbody>\n",
       "</table>\n",
       "</div>"
      ],
      "text/plain": [
       "       id                                               text emotions\n",
       "0   27383  i feel awful about it too because it s my job ...  sadness\n",
       "1  110083                              im alone i feel awful  sadness\n",
       "2  140764  ive probably mentioned this before but i reall...      joy\n",
       "3  100071           i was feeling a little low few days back  sadness\n",
       "4    2837  i beleive that i am much more sensitive to oth...     love"
      ]
     },
     "execution_count": 15,
     "metadata": {},
     "output_type": "execute_result"
    }
   ],
   "source": [
    "def read_csv(path: str) -> pd.DataFrame:\n",
    "    file = pd.read_csv(path)\n",
    "    return file\n",
    "\n",
    "TRAIN_SET = pd.DataFrame(read_csv(\"./train.csv\"))\n",
    "TEST_SET = pd.DataFrame(read_csv(\"./test.csv\"))\n",
    "TRAIN_SET.head()"
   ]
  },
  {
   "cell_type": "code",
   "execution_count": 22,
   "metadata": {},
   "outputs": [],
   "source": [
    "dataset_train = TRAIN_SET\n",
    "dataset_test = TEST_SET"
   ]
  },
  {
   "cell_type": "code",
   "execution_count": 24,
   "metadata": {},
   "outputs": [],
   "source": [
    "texts_train = np.array([dataset_train[\"text\"]])\n",
    "emotions_train = np.array([dataset_train[\"emotions\"]])\n",
    "\n",
    "texts_test = np.array([dataset_test[\"text\"]])"
   ]
  },
  {
   "cell_type": "code",
   "execution_count": 18,
   "metadata": {},
   "outputs": [
    {
     "data": {
      "text/plain": [
       "array([['sadness', 'sadness', 'joy', ..., 'sadness', 'surprise',\n",
       "        'sadness']], dtype=object)"
      ]
     },
     "execution_count": 18,
     "metadata": {},
     "output_type": "execute_result"
    }
   ],
   "source": [
    "emotions_train"
   ]
  },
  {
   "cell_type": "code",
   "execution_count": 25,
   "metadata": {},
   "outputs": [],
   "source": [
    "labels = np.unique(emotions_train)\n",
    "num_labels = len(labels)\n",
    "\n",
    "one_hot = np.zeros((num_labels, num_labels), np.int8)\n",
    "np.fill_diagonal(one_hot, 1)\n",
    "\n",
    "label_dict = dict(zip(labels, one_hot))\n",
    "# logger.debug(label_dict)\n",
    "\n",
    "gt_one_hot = np.array([label_dict[label] for label in emotions_train[0]])"
   ]
  },
  {
   "cell_type": "code",
   "execution_count": 26,
   "metadata": {},
   "outputs": [
    {
     "ename": "TypeError",
     "evalue": "can't multiply sequence by non-int of type 'float'",
     "output_type": "error",
     "traceback": [
      "\u001b[0;31m---------------------------------------------------------------------------\u001b[0m",
      "\u001b[0;31mTypeError\u001b[0m                                 Traceback (most recent call last)",
      "\u001b[1;32m/Users/wenxinjiang/Desktop/23Spring/CS 577/CS577-NLP/HW1/hw1_NN.ipynb Cell 8\u001b[0m in \u001b[0;36m<cell line: 3>\u001b[0;34m()\u001b[0m\n\u001b[1;32m      <a href='vscode-notebook-cell:/Users/wenxinjiang/Desktop/23Spring/CS%20577/CS577-NLP/HW1/hw1_NN.ipynb#X10sZmlsZQ%3D%3D?line=0'>1</a>\u001b[0m layer_sizes \u001b[39m=\u001b[39m [\u001b[39mlen\u001b[39m(texts_train[\u001b[39m0\u001b[39m]), \u001b[39m128\u001b[39m, \u001b[39m64\u001b[39m, num_labels]\n\u001b[1;32m      <a href='vscode-notebook-cell:/Users/wenxinjiang/Desktop/23Spring/CS%20577/CS577-NLP/HW1/hw1_NN.ipynb#X10sZmlsZQ%3D%3D?line=1'>2</a>\u001b[0m nn \u001b[39m=\u001b[39m NN(layer_sizes)\n\u001b[0;32m----> <a href='vscode-notebook-cell:/Users/wenxinjiang/Desktop/23Spring/CS%20577/CS577-NLP/HW1/hw1_NN.ipynb#X10sZmlsZQ%3D%3D?line=2'>3</a>\u001b[0m nn\u001b[39m.\u001b[39;49mtrain(texts_train, emotions_train)\n\u001b[1;32m      <a href='vscode-notebook-cell:/Users/wenxinjiang/Desktop/23Spring/CS%20577/CS577-NLP/HW1/hw1_NN.ipynb#X10sZmlsZQ%3D%3D?line=4'>5</a>\u001b[0m emotions_pred \u001b[39m=\u001b[39m nn\u001b[39m.\u001b[39mpredict(texts_test)\n\u001b[1;32m      <a href='vscode-notebook-cell:/Users/wenxinjiang/Desktop/23Spring/CS%20577/CS577-NLP/HW1/hw1_NN.ipynb#X10sZmlsZQ%3D%3D?line=6'>7</a>\u001b[0m emotions_pred_lables \u001b[39m=\u001b[39m np\u001b[39m.\u001b[39marray([labels[_] \u001b[39mfor\u001b[39;00m _ \u001b[39min\u001b[39;00m np\u001b[39m.\u001b[39margmax(emotions_pred, axis\u001b[39m=\u001b[39m\u001b[39m1\u001b[39m)])\n",
      "\u001b[1;32m/Users/wenxinjiang/Desktop/23Spring/CS 577/CS577-NLP/HW1/hw1_NN.ipynb Cell 8\u001b[0m in \u001b[0;36mNN.train\u001b[0;34m(self, X, y, learning_rate, num_epochs)\u001b[0m\n\u001b[1;32m     <a href='vscode-notebook-cell:/Users/wenxinjiang/Desktop/23Spring/CS%20577/CS577-NLP/HW1/hw1_NN.ipynb#X10sZmlsZQ%3D%3D?line=33'>34</a>\u001b[0m \u001b[39mdef\u001b[39;00m \u001b[39mtrain\u001b[39m(\u001b[39mself\u001b[39m, X, y, learning_rate\u001b[39m=\u001b[39m\u001b[39m0.1\u001b[39m, num_epochs\u001b[39m=\u001b[39m\u001b[39m1000\u001b[39m):\n\u001b[1;32m     <a href='vscode-notebook-cell:/Users/wenxinjiang/Desktop/23Spring/CS%20577/CS577-NLP/HW1/hw1_NN.ipynb#X10sZmlsZQ%3D%3D?line=34'>35</a>\u001b[0m     \u001b[39mfor\u001b[39;00m epoch \u001b[39min\u001b[39;00m \u001b[39mrange\u001b[39m(num_epochs):\n\u001b[0;32m---> <a href='vscode-notebook-cell:/Users/wenxinjiang/Desktop/23Spring/CS%20577/CS577-NLP/HW1/hw1_NN.ipynb#X10sZmlsZQ%3D%3D?line=35'>36</a>\u001b[0m         d_weights, d_biases \u001b[39m=\u001b[39m \u001b[39mself\u001b[39;49m\u001b[39m.\u001b[39;49mbackward(X, y)\n\u001b[1;32m     <a href='vscode-notebook-cell:/Users/wenxinjiang/Desktop/23Spring/CS%20577/CS577-NLP/HW1/hw1_NN.ipynb#X10sZmlsZQ%3D%3D?line=36'>37</a>\u001b[0m         \u001b[39mfor\u001b[39;00m i \u001b[39min\u001b[39;00m \u001b[39mrange\u001b[39m(\u001b[39mlen\u001b[39m(\u001b[39mself\u001b[39m\u001b[39m.\u001b[39mlayer_sizes)\u001b[39m-\u001b[39m\u001b[39m1\u001b[39m):\n\u001b[1;32m     <a href='vscode-notebook-cell:/Users/wenxinjiang/Desktop/23Spring/CS%20577/CS577-NLP/HW1/hw1_NN.ipynb#X10sZmlsZQ%3D%3D?line=37'>38</a>\u001b[0m             \u001b[39mself\u001b[39m\u001b[39m.\u001b[39mweights[i] \u001b[39m-\u001b[39m\u001b[39m=\u001b[39m learning_rate \u001b[39m*\u001b[39m d_weights[i]\n",
      "\u001b[1;32m/Users/wenxinjiang/Desktop/23Spring/CS 577/CS577-NLP/HW1/hw1_NN.ipynb Cell 8\u001b[0m in \u001b[0;36mNN.backward\u001b[0;34m(self, X, y)\u001b[0m\n\u001b[1;32m     <a href='vscode-notebook-cell:/Users/wenxinjiang/Desktop/23Spring/CS%20577/CS577-NLP/HW1/hw1_NN.ipynb#X10sZmlsZQ%3D%3D?line=17'>18</a>\u001b[0m \u001b[39mdef\u001b[39;00m \u001b[39mbackward\u001b[39m(\u001b[39mself\u001b[39m, X, y):\n\u001b[0;32m---> <a href='vscode-notebook-cell:/Users/wenxinjiang/Desktop/23Spring/CS%20577/CS577-NLP/HW1/hw1_NN.ipynb#X10sZmlsZQ%3D%3D?line=18'>19</a>\u001b[0m     activations \u001b[39m=\u001b[39m \u001b[39mself\u001b[39;49m\u001b[39m.\u001b[39;49mforward(X)\n\u001b[1;32m     <a href='vscode-notebook-cell:/Users/wenxinjiang/Desktop/23Spring/CS%20577/CS577-NLP/HW1/hw1_NN.ipynb#X10sZmlsZQ%3D%3D?line=19'>20</a>\u001b[0m     d_activations \u001b[39m=\u001b[39m [\u001b[39m2\u001b[39m\u001b[39m*\u001b[39m(activations[\u001b[39m-\u001b[39m\u001b[39m1\u001b[39m] \u001b[39m-\u001b[39m y)]\n\u001b[1;32m     <a href='vscode-notebook-cell:/Users/wenxinjiang/Desktop/23Spring/CS%20577/CS577-NLP/HW1/hw1_NN.ipynb#X10sZmlsZQ%3D%3D?line=20'>21</a>\u001b[0m     d_weights \u001b[39m=\u001b[39m []\n",
      "\u001b[1;32m/Users/wenxinjiang/Desktop/23Spring/CS 577/CS577-NLP/HW1/hw1_NN.ipynb Cell 8\u001b[0m in \u001b[0;36mNN.forward\u001b[0;34m(self, X)\u001b[0m\n\u001b[1;32m     <a href='vscode-notebook-cell:/Users/wenxinjiang/Desktop/23Spring/CS%20577/CS577-NLP/HW1/hw1_NN.ipynb#X10sZmlsZQ%3D%3D?line=10'>11</a>\u001b[0m activations \u001b[39m=\u001b[39m [X]\n\u001b[1;32m     <a href='vscode-notebook-cell:/Users/wenxinjiang/Desktop/23Spring/CS%20577/CS577-NLP/HW1/hw1_NN.ipynb#X10sZmlsZQ%3D%3D?line=11'>12</a>\u001b[0m \u001b[39mfor\u001b[39;00m i \u001b[39min\u001b[39;00m \u001b[39mrange\u001b[39m(\u001b[39mlen\u001b[39m(\u001b[39mself\u001b[39m\u001b[39m.\u001b[39mlayer_sizes)\u001b[39m-\u001b[39m\u001b[39m1\u001b[39m):\n\u001b[0;32m---> <a href='vscode-notebook-cell:/Users/wenxinjiang/Desktop/23Spring/CS%20577/CS577-NLP/HW1/hw1_NN.ipynb#X10sZmlsZQ%3D%3D?line=12'>13</a>\u001b[0m     z \u001b[39m=\u001b[39m np\u001b[39m.\u001b[39;49mdot(activations[\u001b[39m-\u001b[39;49m\u001b[39m1\u001b[39;49m], \u001b[39mself\u001b[39;49m\u001b[39m.\u001b[39;49mweights[i]) \u001b[39m+\u001b[39m \u001b[39mself\u001b[39m\u001b[39m.\u001b[39mbiases[i]\n\u001b[1;32m     <a href='vscode-notebook-cell:/Users/wenxinjiang/Desktop/23Spring/CS%20577/CS577-NLP/HW1/hw1_NN.ipynb#X10sZmlsZQ%3D%3D?line=13'>14</a>\u001b[0m     activation \u001b[39m=\u001b[39m np\u001b[39m.\u001b[39mmaximum(\u001b[39m0\u001b[39m, z) \u001b[39m# ReLU activation\u001b[39;00m\n\u001b[1;32m     <a href='vscode-notebook-cell:/Users/wenxinjiang/Desktop/23Spring/CS%20577/CS577-NLP/HW1/hw1_NN.ipynb#X10sZmlsZQ%3D%3D?line=14'>15</a>\u001b[0m     activations\u001b[39m.\u001b[39mappend(activation)\n",
      "File \u001b[0;32m<__array_function__ internals>:180\u001b[0m, in \u001b[0;36mdot\u001b[0;34m(*args, **kwargs)\u001b[0m\n",
      "\u001b[0;31mTypeError\u001b[0m: can't multiply sequence by non-int of type 'float'"
     ]
    }
   ],
   "source": [
    "layer_sizes = [len(texts_train[0]), 128, 64, num_labels]\n",
    "nn = NN(layer_sizes)\n",
    "nn.train(texts_train, emotions_train)\n",
    "\n",
    "emotions_pred = nn.predict(texts_test)\n",
    "\n",
    "emotions_pred_lables = np.array([labels[_] for _ in np.argmax(emotions_pred, axis=1)])\n",
    "\n"
   ]
  },
  {
   "cell_type": "code",
   "execution_count": null,
   "metadata": {},
   "outputs": [],
   "source": []
  }
 ],
 "metadata": {
  "kernelspec": {
   "display_name": "Python 3",
   "language": "python",
   "name": "python3"
  },
  "language_info": {
   "codemirror_mode": {
    "name": "ipython",
    "version": 3
   },
   "file_extension": ".py",
   "mimetype": "text/x-python",
   "name": "python",
   "nbconvert_exporter": "python",
   "pygments_lexer": "ipython3",
   "version": "3.10.2"
  },
  "orig_nbformat": 4,
  "vscode": {
   "interpreter": {
    "hash": "949777d72b0d2535278d3dc13498b2535136f6dfe0678499012e853ee9abcab1"
   }
  }
 },
 "nbformat": 4,
 "nbformat_minor": 2
}
