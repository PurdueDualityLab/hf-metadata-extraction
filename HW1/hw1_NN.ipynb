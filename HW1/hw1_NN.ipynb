{
 "cells": [
  {
   "cell_type": "code",
   "execution_count": 2,
   "metadata": {},
   "outputs": [],
   "source": [
    "import numpy as np\n",
    "import pandas as pd\n",
    "import matplotlib.pyplot as plt\n",
    "\n",
    "from loguru import logger"
   ]
  },
  {
   "cell_type": "code",
   "execution_count": 13,
   "metadata": {},
   "outputs": [],
   "source": [
    "\n",
    "def sigmoid(x: float):\n",
    "    # Logistic regression function (Sigmoid)\n",
    "    output = 1 / (1 + np.exp(-x))\n",
    "    return output\n",
    "\n",
    "\n",
    "def softmax(x):\n",
    "    ex = np.exp(x - np.max(x))\n",
    "    return ex/ex.sum()\n",
    "\n",
    "def read_csv(path: str) -> pd.DataFrame:\n",
    "    file = pd.read_csv(path)\n",
    "    return file\n",
    "\n",
    "\n",
    "\n",
    "def feature_rep(train_set, val_set, test_set):\n",
    "    # Create feature representations for data\n",
    "    word2vec = {}\n",
    "    word_set = {}\n",
    "    word_all = []\n",
    "    idx = 0\n",
    "    # logger.debug(train_set)\n",
    "    for dataset in (train_set, val_set, test_set):\n",
    "        for text in dataset.text:\n",
    "            words = text.split()\n",
    "            for word in words:\n",
    "                if word not in word2vec:\n",
    "                    word_all.append(word)\n",
    "                    word2vec[word] = idx\n",
    "                    idx += 1\n",
    "        word_set = set(word_all)\n",
    "        # logger.debug(idx)\n",
    "    # logger.info(len(word2vec))\n",
    "    # logger.info(len(word_set))\n",
    "        # print(text)\n",
    "        # break\n",
    "    return word2vec\n",
    "\n",
    "\n",
    "def text_features(dataset, embedding):\n",
    "    text_features = []\n",
    "    for text in dataset.text:\n",
    "        features = [0] * len(embedding)\n",
    "        words = text.split()\n",
    "        for word in words:\n",
    "            features[embedding[word]] = 1\n",
    "        text_features.append(features)\n",
    "    # logger.info(len(text_features[0]))\n",
    "    # logger.info(len(text_features))\n",
    "    return text_features\n",
    "\n",
    "\n",
    "def data_cleaning(dataset: pd.DataFrame) -> None:\n",
    "    '''\n",
    "        Clean the duplicated entries\n",
    "    '''\n",
    "    dataset = dataset.sort_values(\"id\")\n",
    "    dataset_dup = dataset.duplicated(subset=[\"id\"])\n",
    "    index = np.where(dataset_dup==True)\n",
    "    dataset = dataset.drop(index[0])\n",
    "    return dataset\n",
    "\n",
    "\n",
    "def data_loading(epoch, num_epochs):\n",
    "    # Load raw dataset\n",
    "    TRAIN_PATH = \"./train.csv\"\n",
    "    TEST_PATH = \"./test.csv\"\n",
    "    train_set = read_csv(TRAIN_PATH)\n",
    "    test_set = read_csv(TEST_PATH)\n",
    "    \n",
    "    # data cleaning\n",
    "    train_set = data_cleaning(train_set)\n",
    "    test_set = data_cleaning(test_set)\n",
    "    # logger.info(f\"After data cleaning, len(train_set) is {len(train_set)}, len(test_set) is {len(test_set)}\")\n",
    "\n",
    "    # Cross validation\n",
    "    df_shuffle = train_set.sample(frac=1)\n",
    "    # logger.info(len(df_shuffle))\n",
    "    df_size = len(df_shuffle)\n",
    "    idx_split_left = df_size//num_epochs * (epoch)\n",
    "    idx_split_right = df_size//num_epochs * (epoch+1)\n",
    "    train_set = pd.concat([df_shuffle.iloc[:idx_split_left], df_shuffle.iloc[idx_split_right:]])\n",
    "    val_set = df_shuffle.iloc[idx_split_left:idx_split_right]\n",
    "    return train_set, val_set, test_set\n",
    "\n",
    "def pre_processing(train_set: pd.DataFrame, val_set: pd.DataFrame, test_set: pd.DataFrame):\n",
    "    \n",
    "    embedding = feature_rep(train_set, val_set, test_set)\n",
    "    # Create trianing and testing inputs\n",
    "    text_features_train = text_features(train_set, embedding)\n",
    "    text_features_val = text_features(val_set, embedding)\n",
    "    text_features_test = text_features(test_set, embedding)\n",
    "    \n",
    "    # Create labels\n",
    "    emotions_train = [_ for _ in train_set.emotions]\n",
    "    emotions_val = [_ for _ in val_set.emotions]\n",
    "\n",
    "    emotion_set = set(emotions_train)\n",
    "\n",
    "    emotion2int = {emotion: i for i, emotion in enumerate(emotion_set)}\n",
    "    int2emotion = {i: emotion for i, emotion in enumerate(emotion_set)}\n",
    "    \n",
    "    emotions_train = [emotion2int[emotion] for emotion in emotions_train]\n",
    "    emotions_val = [emotion2int[emotion] for emotion in emotions_val]\n",
    "    train_targets = np.zeros((len(emotions_train), len(emotion_set)))\n",
    "    val_targets = np.zeros((len(emotions_val), len(emotion_set)))\n",
    "    for i, emotion in enumerate(emotions_train):\n",
    "        train_targets[i, emotion] = 1\n",
    "    for i, emotion in enumerate(emotions_val):\n",
    "        val_targets[i, emotion] = 1\n",
    "\n",
    "    return embedding, text_features_train, text_features_val, text_features_test,\\\n",
    "        emotion_set, train_targets, val_targets, emotion2int, int2emotion\n",
    "\n",
    "\n",
    "def post_processing(test_set, pred_emotions):\n",
    "    output = test_set.copy()\n",
    "    output['emotions'] = pred_emotions\n",
    "    output.to_csv(\"./test_lr.csv\")\n",
    "    return output\n"
   ]
  },
  {
   "cell_type": "code",
   "execution_count": 86,
   "metadata": {},
   "outputs": [],
   "source": [
    "class NN:\n",
    "    def __init__(self, layer_sizes):\n",
    "        self.layer_sizes = layer_sizes\n",
    "        self.weights = [np.random.randn(layer_sizes[i], layer_sizes[i+1]) for i in range(len(layer_sizes)-1)]\n",
    "        self.biases = [np.zeros(layer_sizes[i+1]) for i in range(len(layer_sizes)-1)]\n",
    "    \n",
    "    def layers(self):\n",
    "        return [(self.weights[i], self.biases[i]) for i in range(len(self.layer_sizes)-1)]\n",
    "    \n",
    "    def forward(self, X):\n",
    "\n",
    "        activations = [X]\n",
    "        for i in range(len(self.layer_sizes)-1):\n",
    "            z = np.dot(activations[-1], self.weights[i]) + self.biases[i]\n",
    "            activation = np.maximum(0, z) # ReLU activation\n",
    "            activations.append(activation)\n",
    "        return activations\n",
    "    \n",
    "    def backward(self, X, y):\n",
    "        activations = self.forward(X)\n",
    "        d_activations = [2*(activations[-1] - y)]\n",
    "        d_weights = []\n",
    "        d_biases = []\n",
    "        for i in range(len(self.layer_sizes)-2, -1, -1):\n",
    "            d_activation = d_activations[0]\n",
    "            z = np.dot(activations[i], self.weights[i]) + self.biases[i]\n",
    "            d_z = d_activation * (z > 0).astype(float) # ReLU derivative\n",
    "            d_weight = np.dot(activations[i].T, d_z)\n",
    "            d_bias = np.sum(d_z, axis=0)\n",
    "            d_activations.insert(0, np.dot(d_z, self.weights[i].T))\n",
    "            d_weights.insert(0, d_weight)\n",
    "            d_biases.insert(0, d_bias)\n",
    "        return d_weights, d_biases\n",
    "    \n",
    "    def train(self, X, y, learning_rate=0.1, num_epochs=50):\n",
    "        for epoch in range(num_epochs):\n",
    "            # logger.debug(X)\n",
    "            # logger.debug(y)\n",
    "            d_weights, d_biases = self.backward(X, y)\n",
    "            for i in range(len(self.layer_sizes)-1):\n",
    "                self.weights[i] -= learning_rate * d_weights[i]\n",
    "                self.biases[i] -= learning_rate * d_biases[i]\n",
    "    \n",
    "    def predict(self, X):\n",
    "        activations = self.forward(X)\n",
    "        return activations[-1]\n"
   ]
  },
  {
   "cell_type": "code",
   "execution_count": 4,
   "metadata": {},
   "outputs": [
    {
     "data": {
      "text/html": [
       "<div>\n",
       "<style scoped>\n",
       "    .dataframe tbody tr th:only-of-type {\n",
       "        vertical-align: middle;\n",
       "    }\n",
       "\n",
       "    .dataframe tbody tr th {\n",
       "        vertical-align: top;\n",
       "    }\n",
       "\n",
       "    .dataframe thead th {\n",
       "        text-align: right;\n",
       "    }\n",
       "</style>\n",
       "<table border=\"1\" class=\"dataframe\">\n",
       "  <thead>\n",
       "    <tr style=\"text-align: right;\">\n",
       "      <th></th>\n",
       "      <th>id</th>\n",
       "      <th>text</th>\n",
       "      <th>emotions</th>\n",
       "    </tr>\n",
       "  </thead>\n",
       "  <tbody>\n",
       "    <tr>\n",
       "      <th>0</th>\n",
       "      <td>27383</td>\n",
       "      <td>i feel awful about it too because it s my job ...</td>\n",
       "      <td>sadness</td>\n",
       "    </tr>\n",
       "    <tr>\n",
       "      <th>1</th>\n",
       "      <td>110083</td>\n",
       "      <td>im alone i feel awful</td>\n",
       "      <td>sadness</td>\n",
       "    </tr>\n",
       "    <tr>\n",
       "      <th>2</th>\n",
       "      <td>140764</td>\n",
       "      <td>ive probably mentioned this before but i reall...</td>\n",
       "      <td>joy</td>\n",
       "    </tr>\n",
       "    <tr>\n",
       "      <th>3</th>\n",
       "      <td>100071</td>\n",
       "      <td>i was feeling a little low few days back</td>\n",
       "      <td>sadness</td>\n",
       "    </tr>\n",
       "    <tr>\n",
       "      <th>4</th>\n",
       "      <td>2837</td>\n",
       "      <td>i beleive that i am much more sensitive to oth...</td>\n",
       "      <td>love</td>\n",
       "    </tr>\n",
       "  </tbody>\n",
       "</table>\n",
       "</div>"
      ],
      "text/plain": [
       "       id                                               text emotions\n",
       "0   27383  i feel awful about it too because it s my job ...  sadness\n",
       "1  110083                              im alone i feel awful  sadness\n",
       "2  140764  ive probably mentioned this before but i reall...      joy\n",
       "3  100071           i was feeling a little low few days back  sadness\n",
       "4    2837  i beleive that i am much more sensitive to oth...     love"
      ]
     },
     "execution_count": 4,
     "metadata": {},
     "output_type": "execute_result"
    }
   ],
   "source": [
    "def read_csv(path: str) -> pd.DataFrame:\n",
    "    file = pd.read_csv(path)\n",
    "    return file\n",
    "\n",
    "TRAIN_SET = pd.DataFrame(read_csv(\"./train.csv\"))\n",
    "TEST_SET = pd.DataFrame(read_csv(\"./test.csv\"))\n",
    "TRAIN_SET.head()"
   ]
  },
  {
   "cell_type": "code",
   "execution_count": 5,
   "metadata": {},
   "outputs": [],
   "source": [
    "dataset_train = TRAIN_SET\n",
    "dataset_test = TEST_SET"
   ]
  },
  {
   "cell_type": "code",
   "execution_count": 6,
   "metadata": {},
   "outputs": [],
   "source": [
    "texts_train = np.array([dataset_train[\"text\"]])\n",
    "emotions_train = np.array([dataset_train[\"emotions\"]])\n",
    "\n",
    "texts_test = np.array([dataset_test[\"text\"]])"
   ]
  },
  {
   "cell_type": "code",
   "execution_count": 7,
   "metadata": {},
   "outputs": [
    {
     "data": {
      "text/plain": [
       "array([['sadness', 'sadness', 'joy', ..., 'sadness', 'surprise',\n",
       "        'sadness']], dtype=object)"
      ]
     },
     "execution_count": 7,
     "metadata": {},
     "output_type": "execute_result"
    }
   ],
   "source": [
    "emotions_train"
   ]
  },
  {
   "cell_type": "code",
   "execution_count": 54,
   "metadata": {},
   "outputs": [],
   "source": [
    "labels = np.unique(emotions_train)\n",
    "num_labels = len(labels)\n",
    "\n",
    "one_hot = np.zeros((num_labels, num_labels), np.int8)\n",
    "np.fill_diagonal(one_hot, 1)\n",
    "\n",
    "label_dict = dict(zip(labels, one_hot))\n",
    "# logger.debug(label_dict)\n",
    "\n",
    "gt_one_hot = np.array([label_dict[label] for label in emotions_train[0]])"
   ]
  },
  {
   "cell_type": "code",
   "execution_count": 48,
   "metadata": {},
   "outputs": [
    {
     "data": {
      "text/plain": [
       "(1, 1200)"
      ]
     },
     "execution_count": 48,
     "metadata": {},
     "output_type": "execute_result"
    }
   ],
   "source": [
    "texts_train.shape"
   ]
  },
  {
   "cell_type": "code",
   "execution_count": 49,
   "metadata": {},
   "outputs": [],
   "source": [
    "folds = 5\n",
    "fold = 1"
   ]
  },
  {
   "cell_type": "code",
   "execution_count": 74,
   "metadata": {},
   "outputs": [],
   "source": [
    "train_set, val_set, test_set = data_loading(fold, folds)\n",
    "embedding, text_features_train, text_features_val, _,\\\n",
    "        emotion_set, train_targets, val_targets, _, _ = pre_processing(train_set, val_set, test_set)"
   ]
  },
  {
   "cell_type": "code",
   "execution_count": 91,
   "metadata": {},
   "outputs": [],
   "source": [
    "layer_sizes = [len(text_features_train[0]), 128, 64, len(emotion_set)]\n",
    "nn = NN(layer_sizes)\n",
    "# logger.debug(text_features_train[0].shape)\n",
    "# logger.debug(train_targets.shape)\n",
    "nn.train(np.array(text_features_train), train_targets, 100)\n",
    "\n"
   ]
  },
  {
   "cell_type": "code",
   "execution_count": 92,
   "metadata": {},
   "outputs": [],
   "source": [
    "emotions_pred = nn.predict(text_features_val)\n",
    "\n",
    "emotions_pred_lables = np.array([labels[_] for _ in np.argmax(emotions_pred, axis=1)])\n"
   ]
  },
  {
   "cell_type": "code",
   "execution_count": 93,
   "metadata": {},
   "outputs": [
    {
     "data": {
      "text/plain": [
       "array([[0., 0., 0., 0., 0., 0.],\n",
       "       [0., 0., 0., 0., 0., 0.],\n",
       "       [0., 0., 0., 0., 0., 0.],\n",
       "       ...,\n",
       "       [0., 0., 0., 0., 0., 0.],\n",
       "       [0., 0., 0., 0., 0., 0.],\n",
       "       [0., 0., 0., 0., 0., 0.]])"
      ]
     },
     "execution_count": 93,
     "metadata": {},
     "output_type": "execute_result"
    }
   ],
   "source": [
    "np.array(emotions_pred)"
   ]
  },
  {
   "cell_type": "code",
   "execution_count": 236,
   "metadata": {},
   "outputs": [],
   "source": [
    "class NeuralNetwork:\n",
    "    # Reference: https://pylessons.com/Neural-network-single-layer-part3\n",
    "    # Reference: https://towardsai.net/p/machine-learning/nothing-but-numpy-understanding-creating-neural-networks-with-computational-graphs-from-scratch-6299901091b0\n",
    "    def __init__(self, input_size, hidden_size, output_size):\n",
    "        self.W1 = np.random.randn(input_size, hidden_size) * 0.01\n",
    "        # logger.debug(f\"W1: {self.W1.shape}\")\n",
    "        self.b1 = np.zeros((1, hidden_size))\n",
    "        # logger.debug(f\"b1: {self.b1.shape}\")\n",
    "        self.W2 = np.random.randn(hidden_size, output_size) * 0.01\n",
    "        # logger.debug(f\"W2: {self.W2.shape}\")\n",
    "        self.b2 = np.zeros((1, output_size))\n",
    "        # logger.debug(f\"b2: {self.b2.shape}\")\n",
    "        self.scores = []\n",
    "    def forward(self, X):\n",
    "        # logger.debug(X.shape)\n",
    "        # logger.debug(self.W1.shape)\n",
    "        self.z1 = np.dot(X, self.W1) + self.b1\n",
    "        # logger.debug(f\"z1: {self.z1.shape}\")\n",
    "        # self.a1 = np.tanh(self.z1)\n",
    "        # Use ReLU instead\n",
    "        self.a1 = np.maximum(0, self.z1)\n",
    "        # logger.debug(self.W2.shape)\n",
    "        self.z2 = np.dot(self.a1, self.W2) + self.b2\n",
    "        exp_scores = np.exp(self.z2 - np.max(self.z2))\n",
    "        self.probs = exp_scores / np.sum(exp_scores, axis=1, keepdims=True)\n",
    "        return self.probs\n",
    "    \n",
    "        \n",
    "    def backward(self, X, y, y_hat, learning_rate):\n",
    "        # logger.debug(f\"X.shape={X.shape}, y.shape={y.shape}, y_hat.shape={y_hat.shape}\")\n",
    "        delta2 = y_hat\n",
    "        delta2[range(len(X)), np.argmax(y, axis=1)] -= 1\n",
    "        # logger.debug(self.W2.shape)\n",
    "        # logger.debug(self.z1.shape)\n",
    "        delta1 = delta2.dot(self.W2.T) * (1 - np.power(np.tanh(self.z1), 2))\n",
    "        \n",
    "        dW2 = np.dot(self.a1.T, delta2)\n",
    "        db2 = np.sum(delta2, axis=0, keepdims=True)\n",
    "        dW1 = np.dot(X.T, delta1)\n",
    "        db1 = np.sum(delta1, axis=0)\n",
    "\n",
    "        self.W2 -= learning_rate * dW2\n",
    "        self.b2 -= learning_rate * db2\n",
    "        self.W1 -= learning_rate * dW1\n",
    "        self.b1 -= learning_rate * db1\n",
    "\n",
    "    def train(self, X, y, val_targets, text_features_val, num_epochs, learning_rate):\n",
    "        for epoch in range(num_epochs):\n",
    "            # forward pass\n",
    "            y_hat = self.forward(X)\n",
    "            # calculate the loss\n",
    "            correct_logprobs = -np.log(y_hat[range(len(X)), np.argmax(y, axis=1)]+1e-12)\n",
    "            data_loss = np.sum(correct_logprobs) / len(X)\n",
    "            # print the loss every 100 epochs\n",
    "            \n",
    "\n",
    "                # self.scores.append(score)\n",
    "            # backward pass\n",
    "            # logger.debug(X.shape)\n",
    "            # logger.debug(y.shape)\n",
    "            self.backward(X, y, y_hat, learning_rate)\n",
    "            if epoch % 100 == 0:\n",
    "                pred_val = self.predict(text_features_val)\n",
    "                score = np.mean(np.argmax(pred_val, axis=1) == np.argmax(val_targets, axis=1))\n",
    "                self.scores.append(score)\n",
    "                logger.info(f\"Epoch: {epoch}, loss: {data_loss}, accuracy: {score * 100:.2f}%.\")\n",
    "\n",
    "            # eval\n",
    "\n",
    "            \n",
    "            \n",
    "    def predict(self, X):\n",
    "        # forward pass\n",
    "        y_hat = self.forward(X)\n",
    "        # return the index with highest probability\n",
    "        # logger.debug(y_hat.shape)\n",
    "        return y_hat\n",
    "\n",
    "\n",
    "\n",
    "    def get_scores(self):\n",
    "        return self.scores"
   ]
  },
  {
   "cell_type": "code",
   "execution_count": 209,
   "metadata": {},
   "outputs": [
    {
     "data": {
      "text/plain": [
       "(956, 4892)"
      ]
     },
     "execution_count": 209,
     "metadata": {},
     "output_type": "execute_result"
    }
   ],
   "source": [
    "text_features_train.shape"
   ]
  },
  {
   "cell_type": "code",
   "execution_count": 231,
   "metadata": {},
   "outputs": [
    {
     "name": "stderr",
     "output_type": "stream",
     "text": [
      "2023-03-01 21:05:49.575 | DEBUG    | __main__:predict:74 - (239, 6)\n",
      "2023-03-01 21:05:49.576 | INFO     | __main__:train:64 - Epoch: 0, loss: 1.7922428393391725, accuracy: 32.22%.\n",
      "2023-03-01 21:05:55.437 | DEBUG    | __main__:predict:74 - (239, 6)\n",
      "2023-03-01 21:05:55.438 | INFO     | __main__:train:64 - Epoch: 100, loss: 1.0703252540600117, accuracy: 34.73%.\n",
      "2023-03-01 21:06:00.149 | DEBUG    | __main__:predict:74 - (239, 6)\n",
      "2023-03-01 21:06:00.149 | INFO     | __main__:train:64 - Epoch: 200, loss: 0.19645095463366796, accuracy: 48.54%.\n",
      "2023-03-01 21:06:04.887 | DEBUG    | __main__:predict:74 - (239, 6)\n",
      "2023-03-01 21:06:04.888 | INFO     | __main__:train:64 - Epoch: 300, loss: 0.04073902297749522, accuracy: 47.70%.\n",
      "2023-03-01 21:06:09.656 | DEBUG    | __main__:predict:74 - (239, 6)\n",
      "2023-03-01 21:06:09.657 | INFO     | __main__:train:64 - Epoch: 400, loss: 0.0187829648142546, accuracy: 49.37%.\n",
      "2023-03-01 21:06:14.708 | DEBUG    | __main__:predict:74 - (239, 6)\n",
      "2023-03-01 21:06:14.709 | INFO     | __main__:train:64 - Epoch: 500, loss: 0.011686389913862665, accuracy: 49.37%.\n",
      "2023-03-01 21:06:19.491 | DEBUG    | __main__:predict:74 - (239, 6)\n",
      "2023-03-01 21:06:19.492 | INFO     | __main__:train:64 - Epoch: 600, loss: 0.008325083789048938, accuracy: 49.79%.\n",
      "2023-03-01 21:06:24.262 | DEBUG    | __main__:predict:74 - (239, 6)\n",
      "2023-03-01 21:06:24.263 | INFO     | __main__:train:64 - Epoch: 700, loss: 0.00640456013857511, accuracy: 49.79%.\n",
      "2023-03-01 21:06:29.024 | DEBUG    | __main__:predict:74 - (239, 6)\n",
      "2023-03-01 21:06:29.025 | INFO     | __main__:train:64 - Epoch: 800, loss: 0.005177880645057371, accuracy: 49.79%.\n",
      "2023-03-01 21:06:33.765 | DEBUG    | __main__:predict:74 - (239, 6)\n",
      "2023-03-01 21:06:33.766 | INFO     | __main__:train:64 - Epoch: 900, loss: 0.004332396683127551, accuracy: 50.21%.\n",
      "2023-03-01 21:06:38.556 | DEBUG    | __main__:predict:74 - (239, 6)\n",
      "2023-03-01 21:06:38.557 | INFO     | __main__:train:64 - Epoch: 1000, loss: 0.0037172352749611417, accuracy: 50.63%.\n",
      "2023-03-01 21:06:43.418 | DEBUG    | __main__:predict:74 - (239, 6)\n",
      "2023-03-01 21:06:43.419 | INFO     | __main__:train:64 - Epoch: 1100, loss: 0.0032500703454401815, accuracy: 51.05%.\n",
      "2023-03-01 21:06:48.216 | DEBUG    | __main__:predict:74 - (239, 6)\n",
      "2023-03-01 21:06:48.217 | INFO     | __main__:train:64 - Epoch: 1200, loss: 0.0028837466844792046, accuracy: 51.05%.\n",
      "2023-03-01 21:06:53.098 | DEBUG    | __main__:predict:74 - (239, 6)\n",
      "2023-03-01 21:06:53.099 | INFO     | __main__:train:64 - Epoch: 1300, loss: 0.0025891179564026005, accuracy: 51.05%.\n",
      "2023-03-01 21:06:57.930 | DEBUG    | __main__:predict:74 - (239, 6)\n",
      "2023-03-01 21:06:57.931 | INFO     | __main__:train:64 - Epoch: 1400, loss: 0.0023472968001829724, accuracy: 51.05%.\n",
      "2023-03-01 21:07:02.719 | DEBUG    | __main__:predict:74 - (239, 6)\n",
      "2023-03-01 21:07:02.720 | INFO     | __main__:train:64 - Epoch: 1500, loss: 0.002145190549834713, accuracy: 51.05%.\n",
      "2023-03-01 21:07:08.976 | DEBUG    | __main__:predict:74 - (239, 6)\n",
      "2023-03-01 21:07:08.977 | INFO     | __main__:train:64 - Epoch: 1600, loss: 0.001973763657903159, accuracy: 51.05%.\n",
      "2023-03-01 21:07:15.470 | DEBUG    | __main__:predict:74 - (239, 6)\n",
      "2023-03-01 21:07:15.471 | INFO     | __main__:train:64 - Epoch: 1700, loss: 0.0018267033300049197, accuracy: 51.05%.\n",
      "2023-03-01 21:07:21.184 | DEBUG    | __main__:predict:74 - (239, 6)\n",
      "2023-03-01 21:07:21.185 | INFO     | __main__:train:64 - Epoch: 1800, loss: 0.0016991951740893828, accuracy: 51.46%.\n",
      "2023-03-01 21:07:26.685 | DEBUG    | __main__:predict:74 - (239, 6)\n",
      "2023-03-01 21:07:26.686 | INFO     | __main__:train:64 - Epoch: 1900, loss: 0.0015876134409162812, accuracy: 51.46%.\n"
     ]
    }
   ],
   "source": [
    "TRAIN_PATH = \"./train.csv\"\n",
    "    TEST_PATH = \"./test.csv\"\n",
    "    train_set = read_csv(TRAIN_PATH)\n",
    "    test_set = read_csv(TEST_PATH)\n",
    "    val_set = read_csv(TRAIN_PATH)\n",
    "    train_set = data_cleaning(train_set)\n",
    "    val_set = data_cleaning(val_set)\n",
    "    test_set = data_cleaning(test_set)\n",
    "    embedding, _, _, text_features_test,\\\n",
    "            emotion_set, _, _, emotion2int, int2emotion = pre_processing(train_set, val_set, test_set)\n",
    "    \n",
    "    folds = 5\n",
    "    scores = []\n",
    "    best_score = 0\n",
    "    for fold in range(folds):\n",
    "        train_set, val_set, test_set = data_loading(fold, folds)\n",
    "        _, text_features_train, text_features_val, _,\\\n",
    "                _, train_targets, val_targets, _, _ = pre_processing(train_set, val_set, test_set)\n",
    "        weights = np.zeros((len(embedding), len(emotion_set)))\n",
    "        if fold == 0:\n",
    "            logger.info(f\"Input size = {np.array(text_features_train).shape}\")\n",
    "        text_features_train = np.array(text_features_train)\n",
    "        train_targets = np.array(train_targets)\n",
    "        text_features_val = np.array(text_features_val)\n",
    "        val_targets = np.array(val_targets)\n",
    "        X = np.array(text_features_train)\n",
    "        y = np.array(train_targets)\n",
    "        # create a neural network with 100 hidden units\n",
    "        nn = NeuralNetwork(len(text_features_train[0]), 120, len(emotion_set))\\\n",
    "\n",
    "        # train the neural network\n",
    "        num_epochs = 2000\n",
    "        lr = 0.001\n",
    "        nn.train(X, y, val_targets, text_features_val, num_epochs=num_epochs, learning_rate=lr)\n",
    "\n",
    "        scores_fold = nn.get_scores()\n",
    "        scores.append(scores_fold)\n",
    "        if scores_fold[-1] > best_score:\n",
    "            best_nn = nn\n",
    "            best_score = scores_fold[-1]\n",
    "        logger.info(f\"Best Accuracy = {best_score * 100:.2f}%\")\n",
    "        # break\n",
    "    for score in scores:\n",
    "        plt.plot(np.arange(len(score)), score)\n",
    "    plt.title(f\"NN: {folds}-fold Cross Validation, lr={lr}, epochs={num_epochs}, acc={best_score}\")\n",
    "    plt.xlabel(\"Iteration\")\n",
    "    plt.ylabel(\"Validation Accuracy\")\n",
    "    plt.savefig(f\"NN_highestAcc={best_score}_{folds}-fold Cross Validation_lr={lr}_epochs={num_epochs}.png\")\n"
   ]
  },
  {
   "cell_type": "code",
   "execution_count": 228,
   "metadata": {},
   "outputs": [
    {
     "data": {
      "text/plain": [
       "[0.32217573221757323,\n",
       " 0.34309623430962344,\n",
       " 0.4895397489539749,\n",
       " 0.4560669456066946,\n",
       " 0.4769874476987448,\n",
       " 0.4769874476987448,\n",
       " 0.4895397489539749,\n",
       " 0.48535564853556484,\n",
       " 0.48535564853556484,\n",
       " 0.4811715481171548,\n",
       " 0.4895397489539749,\n",
       " 0.4895397489539749,\n",
       " 0.49372384937238495,\n",
       " 0.497907949790795,\n",
       " 0.497907949790795,\n",
       " 0.497907949790795,\n",
       " 0.497907949790795,\n",
       " 0.497907949790795,\n",
       " 0.497907949790795,\n",
       " 0.497907949790795]"
      ]
     },
     "execution_count": 228,
     "metadata": {},
     "output_type": "execute_result"
    }
   ],
   "source": [
    "scores = nn.get_scores()\n",
    "scores"
   ]
  },
  {
   "cell_type": "code",
   "execution_count": 214,
   "metadata": {},
   "outputs": [
    {
     "data": {
      "text/plain": [
       "Text(0, 0.5, 'Validation Accuracy')"
      ]
     },
     "execution_count": 214,
     "metadata": {},
     "output_type": "execute_result"
    },
    {
     "data": {
      "image/png": "[encoded data removed]",
      "text/plain": [
       "<Figure size 720x720 with 1 Axes>"
      ]
     },
     "metadata": {
      "needs_background": "light"
     },
     "output_type": "display_data"
    }
   ],
   "source": [
    "plt.figure(figsize=(10, 10))\n",
    "plt.plot(np.arange(len(scores)), scores)\n",
    "# plt.title(f\"{folds}-fold Cross Validation, lr={lr}, epochs={num_epochs}, highest acc={nn.scores}\")\n",
    "plt.xlabel(\"Iteration\")\n",
    "plt.ylabel(\"Validation Accuracy\")\n",
    "# plt.savefig(f\"LR_highestAcc={scores}_{folds}-fold Cross Validation_lr={learning_rate}_lambda={reg_lambda}_iteration={num_iters}.png\")\n"
   ]
  },
  {
   "cell_type": "code",
   "execution_count": 216,
   "metadata": {},
   "outputs": [],
   "source": [
    "TRAIN_PATH = \"./train.csv\"\n",
    "TEST_PATH = \"./test.csv\"\n",
    "train_set = read_csv(TRAIN_PATH)\n",
    "test_set = read_csv(TEST_PATH)\n",
    "val_set = read_csv(TRAIN_PATH)\n",
    "train_set = data_cleaning(train_set)\n",
    "val_set = data_cleaning(val_set)\n",
    "test_set = data_cleaning(test_set)\n",
    "embedding, _, _, text_features_test,\\\n",
    "        emotion_set, _, _, emotion2int, int2emotion = pre_processing(train_set, val_set, test_set)\n",
    "\n",
    "folds = 5\n",
    "scores = []\n",
    "best_score = 0\n",
    "for fold in range(folds):\n",
    "        train_set, val_set, test_set = data_loading(fold, folds)\n",
    "        _, text_features_train, text_features_val, _,\\\n",
    "                _, train_targets, val_targets, _, _ = pre_processing(train_set, val_set, test_set)\n",
    "        weights = np.zeros((len(embedding), len(emotion_set)))\n",
    "        if fold == 0:\n",
    "                logger.info(f\"Input size = {np.array(text_features_train).shape}\")\n",
    "        text_features_train = np.array(text_features_train)\n",
    "        train_targets = np.array(train_targets)\n",
    "        text_features_val = np.array(text_features_val)\n",
    "        val_targets = np.array(val_targets)\n",
    "        X = np.array(text_features_train)\n",
    "        y = np.array(train_targets)\n",
    "        # create a neural network with 100 hidden units\n",
    "        nn = NeuralNetwork(len(text_features_train[0]), 120, len(emotion_set))\n",
    "        # train the neural network\n",
    "        num_epochs = 2000\n",
    "        lr = 0.001\n",
    "        nn.train(X, y, val_targets, text_features_val, num_epochs=num_epochs, learning_rate=lr)\n",
    "\n",
    "        scores_fold = nn.get_scores()\n",
    "        scores.append(scores_fold)\n",
    "        if scores_fold[-1] > best_score:\n",
    "                best_nn = nn\n",
    "                best_score = scores_fold[-1]\n",
    "        logger.info(f\"Best Accuracy = {best_score * 100:.2f}%\")\n",
    "        # break\n",
    "for score in scores:\n",
    "        plt.plot(np.arange(len(score)), score)\n",
    "        plt.title(f\"NN: {folds}-fold Cross Validation, lr={lr}, epochs={num_epochs}, acc={best_score}\")\n",
    "        plt.xlabel(\"Iteration\")\n",
    "        plt.ylabel(\"Validation Accuracy\")\n",
    "        plt.savefig(f\"NN_highestAcc={best_score}_{folds}-fold Cross Validation_lr={lr}_epochs={num_epochs}.png\")\n"
   ]
  },
  {
   "cell_type": "code",
   "execution_count": null,
   "metadata": {},
   "outputs": [],
   "source": []
  }
 ],
 "metadata": {
  "kernelspec": {
   "display_name": "Python 3",
   "language": "python",
   "name": "python3"
  },
  "language_info": {
   "codemirror_mode": {
    "name": "ipython",
    "version": 3
   },
   "file_extension": ".py",
   "mimetype": "text/x-python",
   "name": "python",
   "nbconvert_exporter": "python",
   "pygments_lexer": "ipython3",
   "version": "3.10.2"
  },
  "orig_nbformat": 4,
  "vscode": {
   "interpreter": {
    "hash": "949777d72b0d2535278d3dc13498b2535136f6dfe0678499012e853ee9abcab1"
   }
  }
 },
 "nbformat": 4,
 "nbformat_minor": 2
}
