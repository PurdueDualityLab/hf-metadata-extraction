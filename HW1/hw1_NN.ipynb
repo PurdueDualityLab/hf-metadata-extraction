{
 "cells": [
  {
   "cell_type": "code",
   "execution_count": 2,
   "metadata": {},
   "outputs": [],
   "source": [
    "import numpy as np\n",
    "import pandas as pd\n",
    "import matplotlib.pyplot as plt\n",
    "\n",
    "from loguru import logger"
   ]
  },
  {
   "cell_type": "code",
   "execution_count": 13,
   "metadata": {},
   "outputs": [],
   "source": [
    "\n",
    "def sigmoid(x: float):\n",
    "    # Logistic regression function (Sigmoid)\n",
    "    output = 1 / (1 + np.exp(-x))\n",
    "    return output\n",
    "\n",
    "\n",
    "def softmax(x):\n",
    "    ex = np.exp(x - np.max(x))\n",
    "    return ex/ex.sum()\n",
    "\n",
    "def read_csv(path: str) -> pd.DataFrame:\n",
    "    file = pd.read_csv(path)\n",
    "    return file\n",
    "\n",
    "\n",
    "\n",
    "def feature_rep(train_set, val_set, test_set):\n",
    "    # Create feature representations for data\n",
    "    word2vec = {}\n",
    "    word_set = {}\n",
    "    word_all = []\n",
    "    idx = 0\n",
    "    # logger.debug(train_set)\n",
    "    for dataset in (train_set, val_set, test_set):\n",
    "        for text in dataset.text:\n",
    "            words = text.split()\n",
    "            for word in words:\n",
    "                if word not in word2vec:\n",
    "                    word_all.append(word)\n",
    "                    word2vec[word] = idx\n",
    "                    idx += 1\n",
    "        word_set = set(word_all)\n",
    "        # logger.debug(idx)\n",
    "    # logger.info(len(word2vec))\n",
    "    # logger.info(len(word_set))\n",
    "        # print(text)\n",
    "        # break\n",
    "    return word2vec\n",
    "\n",
    "\n",
    "def text_features(dataset, embedding):\n",
    "    text_features = []\n",
    "    for text in dataset.text:\n",
    "        features = [0] * len(embedding)\n",
    "        words = text.split()\n",
    "        for word in words:\n",
    "            features[embedding[word]] = 1\n",
    "        text_features.append(features)\n",
    "    # logger.info(len(text_features[0]))\n",
    "    # logger.info(len(text_features))\n",
    "    return text_features\n",
    "\n",
    "\n",
    "def data_cleaning(dataset: pd.DataFrame) -> None:\n",
    "    '''\n",
    "        Clean the duplicated entries\n",
    "    '''\n",
    "    dataset = dataset.sort_values(\"id\")\n",
    "    dataset_dup = dataset.duplicated(subset=[\"id\"])\n",
    "    index = np.where(dataset_dup==True)\n",
    "    dataset = dataset.drop(index[0])\n",
    "    return dataset\n",
    "\n",
    "\n",
    "def data_loading(epoch, num_epochs):\n",
    "    # Load raw dataset\n",
    "    TRAIN_PATH = \"./train.csv\"\n",
    "    TEST_PATH = \"./test.csv\"\n",
    "    train_set = read_csv(TRAIN_PATH)\n",
    "    test_set = read_csv(TEST_PATH)\n",
    "    \n",
    "    # data cleaning\n",
    "    train_set = data_cleaning(train_set)\n",
    "    test_set = data_cleaning(test_set)\n",
    "    # logger.info(f\"After data cleaning, len(train_set) is {len(train_set)}, len(test_set) is {len(test_set)}\")\n",
    "\n",
    "    # Cross validation\n",
    "    df_shuffle = train_set.sample(frac=1)\n",
    "    # logger.info(len(df_shuffle))\n",
    "    df_size = len(df_shuffle)\n",
    "    idx_split_left = df_size//num_epochs * (epoch)\n",
    "    idx_split_right = df_size//num_epochs * (epoch+1)\n",
    "    train_set = pd.concat([df_shuffle.iloc[:idx_split_left], df_shuffle.iloc[idx_split_right:]])\n",
    "    val_set = df_shuffle.iloc[idx_split_left:idx_split_right]\n",
    "    return train_set, val_set, test_set\n",
    "\n",
    "def pre_processing(train_set: pd.DataFrame, val_set: pd.DataFrame, test_set: pd.DataFrame):\n",
    "    \n",
    "    embedding = feature_rep(train_set, val_set, test_set)\n",
    "    # Create trianing and testing inputs\n",
    "    text_features_train = text_features(train_set, embedding)\n",
    "    text_features_val = text_features(val_set, embedding)\n",
    "    text_features_test = text_features(test_set, embedding)\n",
    "    \n",
    "    # Create labels\n",
    "    emotions_train = [_ for _ in train_set.emotions]\n",
    "    emotions_val = [_ for _ in val_set.emotions]\n",
    "\n",
    "    emotion_set = set(emotions_train)\n",
    "\n",
    "    emotion2int = {emotion: i for i, emotion in enumerate(emotion_set)}\n",
    "    int2emotion = {i: emotion for i, emotion in enumerate(emotion_set)}\n",
    "    \n",
    "    emotions_train = [emotion2int[emotion] for emotion in emotions_train]\n",
    "    emotions_val = [emotion2int[emotion] for emotion in emotions_val]\n",
    "    train_targets = np.zeros((len(emotions_train), len(emotion_set)))\n",
    "    val_targets = np.zeros((len(emotions_val), len(emotion_set)))\n",
    "    for i, emotion in enumerate(emotions_train):\n",
    "        train_targets[i, emotion] = 1\n",
    "    for i, emotion in enumerate(emotions_val):\n",
    "        val_targets[i, emotion] = 1\n",
    "\n",
    "    return embedding, text_features_train, text_features_val, text_features_test,\\\n",
    "        emotion_set, train_targets, val_targets, emotion2int, int2emotion\n",
    "\n",
    "\n",
    "def post_processing(test_set, pred_emotions):\n",
    "    output = test_set.copy()\n",
    "    output['emotions'] = pred_emotions\n",
    "    output.to_csv(\"./test_lr.csv\")\n",
    "    return output\n"
   ]
  },
  {
   "cell_type": "code",
   "execution_count": 86,
   "metadata": {},
   "outputs": [],
   "source": [
    "class NN:\n",
    "    def __init__(self, layer_sizes):\n",
    "        self.layer_sizes = layer_sizes\n",
    "        self.weights = [np.random.randn(layer_sizes[i], layer_sizes[i+1]) for i in range(len(layer_sizes)-1)]\n",
    "        self.biases = [np.zeros(layer_sizes[i+1]) for i in range(len(layer_sizes)-1)]\n",
    "    \n",
    "    def layers(self):\n",
    "        return [(self.weights[i], self.biases[i]) for i in range(len(self.layer_sizes)-1)]\n",
    "    \n",
    "    def forward(self, X):\n",
    "\n",
    "        activations = [X]\n",
    "        for i in range(len(self.layer_sizes)-1):\n",
    "            z = np.dot(activations[-1], self.weights[i]) + self.biases[i]\n",
    "            activation = np.maximum(0, z) # ReLU activation\n",
    "            activations.append(activation)\n",
    "        return activations\n",
    "    \n",
    "    def backward(self, X, y):\n",
    "        activations = self.forward(X)\n",
    "        d_activations = [2*(activations[-1] - y)]\n",
    "        d_weights = []\n",
    "        d_biases = []\n",
    "        for i in range(len(self.layer_sizes)-2, -1, -1):\n",
    "            d_activation = d_activations[0]\n",
    "            z = np.dot(activations[i], self.weights[i]) + self.biases[i]\n",
    "            d_z = d_activation * (z > 0).astype(float) # ReLU derivative\n",
    "            d_weight = np.dot(activations[i].T, d_z)\n",
    "            d_bias = np.sum(d_z, axis=0)\n",
    "            d_activations.insert(0, np.dot(d_z, self.weights[i].T))\n",
    "            d_weights.insert(0, d_weight)\n",
    "            d_biases.insert(0, d_bias)\n",
    "        return d_weights, d_biases\n",
    "    \n",
    "    def train(self, X, y, learning_rate=0.1, num_epochs=50):\n",
    "        for epoch in range(num_epochs):\n",
    "            # logger.debug(X)\n",
    "            # logger.debug(y)\n",
    "            d_weights, d_biases = self.backward(X, y)\n",
    "            for i in range(len(self.layer_sizes)-1):\n",
    "                self.weights[i] -= learning_rate * d_weights[i]\n",
    "                self.biases[i] -= learning_rate * d_biases[i]\n",
    "    \n",
    "    def predict(self, X):\n",
    "        activations = self.forward(X)\n",
    "        return activations[-1]\n"
   ]
  },
  {
   "cell_type": "code",
   "execution_count": 4,
   "metadata": {},
   "outputs": [
    {
     "data": {
      "text/html": [
       "<div>\n",
       "<style scoped>\n",
       "    .dataframe tbody tr th:only-of-type {\n",
       "        vertical-align: middle;\n",
       "    }\n",
       "\n",
       "    .dataframe tbody tr th {\n",
       "        vertical-align: top;\n",
       "    }\n",
       "\n",
       "    .dataframe thead th {\n",
       "        text-align: right;\n",
       "    }\n",
       "</style>\n",
       "<table border=\"1\" class=\"dataframe\">\n",
       "  <thead>\n",
       "    <tr style=\"text-align: right;\">\n",
       "      <th></th>\n",
       "      <th>id</th>\n",
       "      <th>text</th>\n",
       "      <th>emotions</th>\n",
       "    </tr>\n",
       "  </thead>\n",
       "  <tbody>\n",
       "    <tr>\n",
       "      <th>0</th>\n",
       "      <td>27383</td>\n",
       "      <td>i feel awful about it too because it s my job ...</td>\n",
       "      <td>sadness</td>\n",
       "    </tr>\n",
       "    <tr>\n",
       "      <th>1</th>\n",
       "      <td>110083</td>\n",
       "      <td>im alone i feel awful</td>\n",
       "      <td>sadness</td>\n",
       "    </tr>\n",
       "    <tr>\n",
       "      <th>2</th>\n",
       "      <td>140764</td>\n",
       "      <td>ive probably mentioned this before but i reall...</td>\n",
       "      <td>joy</td>\n",
       "    </tr>\n",
       "    <tr>\n",
       "      <th>3</th>\n",
       "      <td>100071</td>\n",
       "      <td>i was feeling a little low few days back</td>\n",
       "      <td>sadness</td>\n",
       "    </tr>\n",
       "    <tr>\n",
       "      <th>4</th>\n",
       "      <td>2837</td>\n",
       "      <td>i beleive that i am much more sensitive to oth...</td>\n",
       "      <td>love</td>\n",
       "    </tr>\n",
       "  </tbody>\n",
       "</table>\n",
       "</div>"
      ],
      "text/plain": [
       "       id                                               text emotions\n",
       "0   27383  i feel awful about it too because it s my job ...  sadness\n",
       "1  110083                              im alone i feel awful  sadness\n",
       "2  140764  ive probably mentioned this before but i reall...      joy\n",
       "3  100071           i was feeling a little low few days back  sadness\n",
       "4    2837  i beleive that i am much more sensitive to oth...     love"
      ]
     },
     "execution_count": 4,
     "metadata": {},
     "output_type": "execute_result"
    }
   ],
   "source": [
    "def read_csv(path: str) -> pd.DataFrame:\n",
    "    file = pd.read_csv(path)\n",
    "    return file\n",
    "\n",
    "TRAIN_SET = pd.DataFrame(read_csv(\"./train.csv\"))\n",
    "TEST_SET = pd.DataFrame(read_csv(\"./test.csv\"))\n",
    "TRAIN_SET.head()"
   ]
  },
  {
   "cell_type": "code",
   "execution_count": 5,
   "metadata": {},
   "outputs": [],
   "source": [
    "dataset_train = TRAIN_SET\n",
    "dataset_test = TEST_SET"
   ]
  },
  {
   "cell_type": "code",
   "execution_count": 6,
   "metadata": {},
   "outputs": [],
   "source": [
    "texts_train = np.array([dataset_train[\"text\"]])\n",
    "emotions_train = np.array([dataset_train[\"emotions\"]])\n",
    "\n",
    "texts_test = np.array([dataset_test[\"text\"]])"
   ]
  },
  {
   "cell_type": "code",
   "execution_count": 7,
   "metadata": {},
   "outputs": [
    {
     "data": {
      "text/plain": [
       "array([['sadness', 'sadness', 'joy', ..., 'sadness', 'surprise',\n",
       "        'sadness']], dtype=object)"
      ]
     },
     "execution_count": 7,
     "metadata": {},
     "output_type": "execute_result"
    }
   ],
   "source": [
    "emotions_train"
   ]
  },
  {
   "cell_type": "code",
   "execution_count": 54,
   "metadata": {},
   "outputs": [],
   "source": [
    "labels = np.unique(emotions_train)\n",
    "num_labels = len(labels)\n",
    "\n",
    "one_hot = np.zeros((num_labels, num_labels), np.int8)\n",
    "np.fill_diagonal(one_hot, 1)\n",
    "\n",
    "label_dict = dict(zip(labels, one_hot))\n",
    "# logger.debug(label_dict)\n",
    "\n",
    "gt_one_hot = np.array([label_dict[label] for label in emotions_train[0]])"
   ]
  },
  {
   "cell_type": "code",
   "execution_count": 48,
   "metadata": {},
   "outputs": [
    {
     "data": {
      "text/plain": [
       "(1, 1200)"
      ]
     },
     "execution_count": 48,
     "metadata": {},
     "output_type": "execute_result"
    }
   ],
   "source": [
    "texts_train.shape"
   ]
  },
  {
   "cell_type": "code",
   "execution_count": 49,
   "metadata": {},
   "outputs": [],
   "source": [
    "folds = 5\n",
    "fold = 1"
   ]
  },
  {
   "cell_type": "code",
   "execution_count": 74,
   "metadata": {},
   "outputs": [],
   "source": [
    "train_set, val_set, test_set = data_loading(fold, folds)\n",
    "embedding, text_features_train, text_features_val, _,\\\n",
    "        emotion_set, train_targets, val_targets, _, _ = pre_processing(train_set, val_set, test_set)"
   ]
  },
  {
   "cell_type": "code",
   "execution_count": 91,
   "metadata": {},
   "outputs": [],
   "source": [
    "layer_sizes = [len(text_features_train[0]), 128, 64, len(emotion_set)]\n",
    "nn = NN(layer_sizes)\n",
    "# logger.debug(text_features_train[0].shape)\n",
    "# logger.debug(train_targets.shape)\n",
    "nn.train(np.array(text_features_train), train_targets, 100)\n",
    "\n"
   ]
  },
  {
   "cell_type": "code",
   "execution_count": 92,
   "metadata": {},
   "outputs": [],
   "source": [
    "emotions_pred = nn.predict(text_features_val)\n",
    "\n",
    "emotions_pred_lables = np.array([labels[_] for _ in np.argmax(emotions_pred, axis=1)])\n"
   ]
  },
  {
   "cell_type": "code",
   "execution_count": 93,
   "metadata": {},
   "outputs": [
    {
     "data": {
      "text/plain": [
       "array([[0., 0., 0., 0., 0., 0.],\n",
       "       [0., 0., 0., 0., 0., 0.],\n",
       "       [0., 0., 0., 0., 0., 0.],\n",
       "       ...,\n",
       "       [0., 0., 0., 0., 0., 0.],\n",
       "       [0., 0., 0., 0., 0., 0.],\n",
       "       [0., 0., 0., 0., 0., 0.]])"
      ]
     },
     "execution_count": 93,
     "metadata": {},
     "output_type": "execute_result"
    }
   ],
   "source": [
    "np.array(emotions_pred)"
   ]
  },
  {
   "cell_type": "code",
   "execution_count": 236,
   "metadata": {},
   "outputs": [],
   "source": [
    "class NeuralNetwork:\n",
    "    # Reference: https://pylessons.com/Neural-network-single-layer-part3\n",
    "    # Reference: https://towardsai.net/p/machine-learning/nothing-but-numpy-understanding-creating-neural-networks-with-computational-graphs-from-scratch-6299901091b0\n",
    "    def __init__(self, input_size, hidden_size, output_size):\n",
    "        self.W1 = np.random.randn(input_size, hidden_size) * 0.01\n",
    "        # logger.debug(f\"W1: {self.W1.shape}\")\n",
    "        self.b1 = np.zeros((1, hidden_size))\n",
    "        # logger.debug(f\"b1: {self.b1.shape}\")\n",
    "        self.W2 = np.random.randn(hidden_size, output_size) * 0.01\n",
    "        # logger.debug(f\"W2: {self.W2.shape}\")\n",
    "        self.b2 = np.zeros((1, output_size))\n",
    "        # logger.debug(f\"b2: {self.b2.shape}\")\n",
    "        self.scores = []\n",
    "    def forward(self, X):\n",
    "        # logger.debug(X.shape)\n",
    "        # logger.debug(self.W1.shape)\n",
    "        self.z1 = np.dot(X, self.W1) + self.b1\n",
    "        # logger.debug(f\"z1: {self.z1.shape}\")\n",
    "        # self.a1 = np.tanh(self.z1)\n",
    "        # Use ReLU instead\n",
    "        self.a1 = np.maximum(0, self.z1)\n",
    "        # logger.debug(self.W2.shape)\n",
    "        self.z2 = np.dot(self.a1, self.W2) + self.b2\n",
    "        exp_scores = np.exp(self.z2 - np.max(self.z2))\n",
    "        self.probs = exp_scores / np.sum(exp_scores, axis=1, keepdims=True)\n",
    "        return self.probs\n",
    "    \n",
    "        \n",
    "    def backward(self, X, y, y_hat, learning_rate):\n",
    "        # logger.debug(f\"X.shape={X.shape}, y.shape={y.shape}, y_hat.shape={y_hat.shape}\")\n",
    "        delta2 = y_hat\n",
    "        delta2[range(len(X)), np.argmax(y, axis=1)] -= 1\n",
    "        # logger.debug(self.W2.shape)\n",
    "        # logger.debug(self.z1.shape)\n",
    "        delta1 = delta2.dot(self.W2.T) * (1 - np.power(np.tanh(self.z1), 2))\n",
    "        \n",
    "        dW2 = np.dot(self.a1.T, delta2)\n",
    "        db2 = np.sum(delta2, axis=0, keepdims=True)\n",
    "        dW1 = np.dot(X.T, delta1)\n",
    "        db1 = np.sum(delta1, axis=0)\n",
    "\n",
    "        self.W2 -= learning_rate * dW2\n",
    "        self.b2 -= learning_rate * db2\n",
    "        self.W1 -= learning_rate * dW1\n",
    "        self.b1 -= learning_rate * db1\n",
    "\n",
    "    def train(self, X, y, val_targets, text_features_val, num_epochs, learning_rate):\n",
    "        for epoch in range(num_epochs):\n",
    "            # forward pass\n",
    "            y_hat = self.forward(X)\n",
    "            # calculate the loss\n",
    "            correct_logprobs = -np.log(y_hat[range(len(X)), np.argmax(y, axis=1)]+1e-12)\n",
    "            data_loss = np.sum(correct_logprobs) / len(X)\n",
    "            # print the loss every 100 epochs\n",
    "            \n",
    "\n",
    "                # self.scores.append(score)\n",
    "            # backward pass\n",
    "            # logger.debug(X.shape)\n",
    "            # logger.debug(y.shape)\n",
    "            self.backward(X, y, y_hat, learning_rate)\n",
    "            if epoch % 100 == 0:\n",
    "                pred_val = self.predict(text_features_val)\n",
    "                score = np.mean(np.argmax(pred_val, axis=1) == np.argmax(val_targets, axis=1))\n",
    "                self.scores.append(score)\n",
    "                logger.info(f\"Epoch: {epoch}, loss: {data_loss}, accuracy: {score * 100:.2f}%.\")\n",
    "\n",
    "            # eval\n",
    "\n",
    "            \n",
    "            \n",
    "    def predict(self, X):\n",
    "        # forward pass\n",
    "        y_hat = self.forward(X)\n",
    "        # return the index with highest probability\n",
    "        # logger.debug(y_hat.shape)\n",
    "        return y_hat\n",
    "\n",
    "\n",
    "\n",
    "    def get_scores(self):\n",
    "        return self.scores"
   ]
  },
  {
   "cell_type": "code",
   "execution_count": 209,
   "metadata": {},
   "outputs": [
    {
     "data": {
      "text/plain": [
       "(956, 4892)"
      ]
     },
     "execution_count": 209,
     "metadata": {},
     "output_type": "execute_result"
    }
   ],
   "source": [
    "text_features_train.shape"
   ]
  },
  {
   "cell_type": "code",
   "execution_count": 255,
   "metadata": {},
   "outputs": [
    {
     "name": "stderr",
     "output_type": "stream",
     "text": [
      "2023-03-02 00:16:48.162 | INFO     | __main__:<cell line: 15>:21 - Input size = (956, 4892)\n",
      "2023-03-02 00:16:48.661 | INFO     | __main__:train:66 - Epoch: 0, loss: 1.7913375730882561, accuracy: 39.75%.\n",
      "2023-03-02 00:16:55.470 | INFO     | __main__:train:66 - Epoch: 100, loss: 1.0893748780437915, accuracy: 35.98%.\n"
     ]
    },
    {
     "ename": "KeyboardInterrupt",
     "evalue": "",
     "output_type": "error",
     "traceback": [
      "\u001b[0;31m---------------------------------------------------------------------------\u001b[0m",
      "\u001b[0;31mKeyboardInterrupt\u001b[0m                         Traceback (most recent call last)",
      "\u001b[1;32m/Users/wenxinjiang/Desktop/23Spring/CS 577/CS577-NLP/HW1/hw1_NN.ipynb Cell 17\u001b[0m in \u001b[0;36m<cell line: 15>\u001b[0;34m()\u001b[0m\n\u001b[1;32m     <a href='vscode-notebook-cell:/Users/wenxinjiang/Desktop/23Spring/CS%20577/CS577-NLP/HW1/hw1_NN.ipynb#X24sZmlsZQ%3D%3D?line=31'>32</a>\u001b[0m num_epochs \u001b[39m=\u001b[39m \u001b[39m800\u001b[39m\n\u001b[1;32m     <a href='vscode-notebook-cell:/Users/wenxinjiang/Desktop/23Spring/CS%20577/CS577-NLP/HW1/hw1_NN.ipynb#X24sZmlsZQ%3D%3D?line=32'>33</a>\u001b[0m lr \u001b[39m=\u001b[39m \u001b[39m0.001\u001b[39m\n\u001b[0;32m---> <a href='vscode-notebook-cell:/Users/wenxinjiang/Desktop/23Spring/CS%20577/CS577-NLP/HW1/hw1_NN.ipynb#X24sZmlsZQ%3D%3D?line=33'>34</a>\u001b[0m nn\u001b[39m.\u001b[39;49mtrain(X, y, val_targets, text_features_val, num_epochs\u001b[39m=\u001b[39;49mnum_epochs, learning_rate\u001b[39m=\u001b[39;49mlr)\n\u001b[1;32m     <a href='vscode-notebook-cell:/Users/wenxinjiang/Desktop/23Spring/CS%20577/CS577-NLP/HW1/hw1_NN.ipynb#X24sZmlsZQ%3D%3D?line=35'>36</a>\u001b[0m scores_fold \u001b[39m=\u001b[39m nn\u001b[39m.\u001b[39mget_scores()\n\u001b[1;32m     <a href='vscode-notebook-cell:/Users/wenxinjiang/Desktop/23Spring/CS%20577/CS577-NLP/HW1/hw1_NN.ipynb#X24sZmlsZQ%3D%3D?line=36'>37</a>\u001b[0m scores\u001b[39m.\u001b[39mappend(scores_fold)\n",
      "\u001b[1;32m/Users/wenxinjiang/Desktop/23Spring/CS 577/CS577-NLP/HW1/hw1_NN.ipynb Cell 17\u001b[0m in \u001b[0;36mNeuralNetwork.train\u001b[0;34m(self, X, y, val_targets, text_features_val, num_epochs, learning_rate)\u001b[0m\n\u001b[1;32m     <a href='vscode-notebook-cell:/Users/wenxinjiang/Desktop/23Spring/CS%20577/CS577-NLP/HW1/hw1_NN.ipynb#X24sZmlsZQ%3D%3D?line=46'>47</a>\u001b[0m \u001b[39mdef\u001b[39;00m \u001b[39mtrain\u001b[39m(\u001b[39mself\u001b[39m, X, y, val_targets, text_features_val, num_epochs, learning_rate):\n\u001b[1;32m     <a href='vscode-notebook-cell:/Users/wenxinjiang/Desktop/23Spring/CS%20577/CS577-NLP/HW1/hw1_NN.ipynb#X24sZmlsZQ%3D%3D?line=47'>48</a>\u001b[0m     \u001b[39mfor\u001b[39;00m epoch \u001b[39min\u001b[39;00m \u001b[39mrange\u001b[39m(num_epochs):\n\u001b[1;32m     <a href='vscode-notebook-cell:/Users/wenxinjiang/Desktop/23Spring/CS%20577/CS577-NLP/HW1/hw1_NN.ipynb#X24sZmlsZQ%3D%3D?line=48'>49</a>\u001b[0m         \u001b[39m# forward pass\u001b[39;00m\n\u001b[0;32m---> <a href='vscode-notebook-cell:/Users/wenxinjiang/Desktop/23Spring/CS%20577/CS577-NLP/HW1/hw1_NN.ipynb#X24sZmlsZQ%3D%3D?line=49'>50</a>\u001b[0m         y_hat \u001b[39m=\u001b[39m \u001b[39mself\u001b[39;49m\u001b[39m.\u001b[39;49mforward(X)\n\u001b[1;32m     <a href='vscode-notebook-cell:/Users/wenxinjiang/Desktop/23Spring/CS%20577/CS577-NLP/HW1/hw1_NN.ipynb#X24sZmlsZQ%3D%3D?line=50'>51</a>\u001b[0m         \u001b[39m# calculate the loss\u001b[39;00m\n\u001b[1;32m     <a href='vscode-notebook-cell:/Users/wenxinjiang/Desktop/23Spring/CS%20577/CS577-NLP/HW1/hw1_NN.ipynb#X24sZmlsZQ%3D%3D?line=51'>52</a>\u001b[0m         correct_logprobs \u001b[39m=\u001b[39m \u001b[39m-\u001b[39mnp\u001b[39m.\u001b[39mlog(y_hat[\u001b[39mrange\u001b[39m(\u001b[39mlen\u001b[39m(X)), np\u001b[39m.\u001b[39margmax(y, axis\u001b[39m=\u001b[39m\u001b[39m1\u001b[39m)]\u001b[39m+\u001b[39m\u001b[39m1e-12\u001b[39m)\n",
      "\u001b[1;32m/Users/wenxinjiang/Desktop/23Spring/CS 577/CS577-NLP/HW1/hw1_NN.ipynb Cell 17\u001b[0m in \u001b[0;36mNeuralNetwork.forward\u001b[0;34m(self, X)\u001b[0m\n\u001b[1;32m     <a href='vscode-notebook-cell:/Users/wenxinjiang/Desktop/23Spring/CS%20577/CS577-NLP/HW1/hw1_NN.ipynb#X24sZmlsZQ%3D%3D?line=13'>14</a>\u001b[0m \u001b[39mdef\u001b[39;00m \u001b[39mforward\u001b[39m(\u001b[39mself\u001b[39m, X):\n\u001b[1;32m     <a href='vscode-notebook-cell:/Users/wenxinjiang/Desktop/23Spring/CS%20577/CS577-NLP/HW1/hw1_NN.ipynb#X24sZmlsZQ%3D%3D?line=14'>15</a>\u001b[0m     \u001b[39m# logger.debug(X.shape)\u001b[39;00m\n\u001b[1;32m     <a href='vscode-notebook-cell:/Users/wenxinjiang/Desktop/23Spring/CS%20577/CS577-NLP/HW1/hw1_NN.ipynb#X24sZmlsZQ%3D%3D?line=15'>16</a>\u001b[0m     \u001b[39m# logger.debug(self.W1.shape)\u001b[39;00m\n\u001b[0;32m---> <a href='vscode-notebook-cell:/Users/wenxinjiang/Desktop/23Spring/CS%20577/CS577-NLP/HW1/hw1_NN.ipynb#X24sZmlsZQ%3D%3D?line=16'>17</a>\u001b[0m     \u001b[39mself\u001b[39m\u001b[39m.\u001b[39mz1 \u001b[39m=\u001b[39m np\u001b[39m.\u001b[39;49mdot(X, \u001b[39mself\u001b[39;49m\u001b[39m.\u001b[39;49mW1) \u001b[39m+\u001b[39m \u001b[39mself\u001b[39m\u001b[39m.\u001b[39mb1\n\u001b[1;32m     <a href='vscode-notebook-cell:/Users/wenxinjiang/Desktop/23Spring/CS%20577/CS577-NLP/HW1/hw1_NN.ipynb#X24sZmlsZQ%3D%3D?line=17'>18</a>\u001b[0m     \u001b[39m# logger.debug(f\"z1: {self.z1.shape}\")\u001b[39;00m\n\u001b[1;32m     <a href='vscode-notebook-cell:/Users/wenxinjiang/Desktop/23Spring/CS%20577/CS577-NLP/HW1/hw1_NN.ipynb#X24sZmlsZQ%3D%3D?line=18'>19</a>\u001b[0m     \u001b[39m# self.a1 = np.tanh(self.z1)\u001b[39;00m\n\u001b[1;32m     <a href='vscode-notebook-cell:/Users/wenxinjiang/Desktop/23Spring/CS%20577/CS577-NLP/HW1/hw1_NN.ipynb#X24sZmlsZQ%3D%3D?line=19'>20</a>\u001b[0m     \u001b[39m# Use ReLU instead\u001b[39;00m\n\u001b[1;32m     <a href='vscode-notebook-cell:/Users/wenxinjiang/Desktop/23Spring/CS%20577/CS577-NLP/HW1/hw1_NN.ipynb#X24sZmlsZQ%3D%3D?line=20'>21</a>\u001b[0m     \u001b[39mself\u001b[39m\u001b[39m.\u001b[39ma1 \u001b[39m=\u001b[39m np\u001b[39m.\u001b[39mmaximum(\u001b[39m0\u001b[39m, \u001b[39mself\u001b[39m\u001b[39m.\u001b[39mz1)\n",
      "File \u001b[0;32m<__array_function__ internals>:180\u001b[0m, in \u001b[0;36mdot\u001b[0;34m(*args, **kwargs)\u001b[0m\n",
      "\u001b[0;31mKeyboardInterrupt\u001b[0m: "
     ]
    }
   ],
   "source": [
    "TRAIN_PATH = \"./train.csv\"\n",
    "TEST_PATH = \"./test.csv\"\n",
    "train_set = read_csv(TRAIN_PATH)\n",
    "test_set = read_csv(TEST_PATH)\n",
    "val_set = read_csv(TRAIN_PATH)\n",
    "train_set = data_cleaning(train_set)\n",
    "val_set = data_cleaning(val_set)\n",
    "test_set = data_cleaning(test_set)\n",
    "embedding, _, _, text_features_test,\\\n",
    "        emotion_set, _, _, emotion2int, int2emotion = pre_processing(train_set, val_set, test_set)\n",
    "\n",
    "folds = 5\n",
    "scores = []\n",
    "best_score = 0\n",
    "for fold in range(folds):\n",
    "    train_set, val_set, test_set = data_loading(fold, folds)\n",
    "    _, text_features_train, text_features_val, _,\\\n",
    "            _, train_targets, val_targets, _, _ = pre_processing(train_set, val_set, test_set)\n",
    "    weights = np.zeros((len(embedding), len(emotion_set)))\n",
    "    if fold == 0:\n",
    "        logger.info(f\"Input size = {np.array(text_features_train).shape}\")\n",
    "    text_features_train = np.array(text_features_train)\n",
    "    train_targets = np.array(train_targets)\n",
    "    text_features_val = np.array(text_features_val)\n",
    "    val_targets = np.array(val_targets)\n",
    "    X = np.array(text_features_train)\n",
    "    y = np.array(train_targets)\n",
    "    # create a neural network with 100 hidden units\n",
    "    nn = NeuralNetwork(len(text_features_train[0]), 120, len(emotion_set))\\\n",
    "\n",
    "    # train the neural network\n",
    "    num_epochs = 800\n",
    "    lr = 0.001\n",
    "    nn.train(X, y, val_targets, text_features_val, num_epochs=num_epochs, learning_rate=lr)\n",
    "\n",
    "    scores_fold = nn.get_scores()\n",
    "    scores.append(scores_fold)\n",
    "    if scores_fold[-1] > best_score:\n",
    "        best_nn = nn\n",
    "        best_score = scores_fold[-1]\n",
    "    logger.info(f\"Best Accuracy = {best_score * 100:.2f}%\")\n",
    "    # break\n",
    "for score in scores:\n",
    "    plt.plot(np.arange(len(score)), score)\n",
    "plt.title(f\"NN: {folds}-fold Cross Validation, lr={lr}, epochs={num_epochs}, acc={best_score}\")\n",
    "plt.xlabel(\"Iteration\")\n",
    "plt.ylabel(\"Validation Accuracy\")\n",
    "plt.savefig(f\"NN_highestAcc={best_score}_{folds}-fold Cross Validation_lr={lr}_epochs={num_epochs}.png\")\n"
   ]
  },
  {
   "cell_type": "code",
   "execution_count": 228,
   "metadata": {},
   "outputs": [
    {
     "data": {
      "text/plain": [
       "[0.32217573221757323,\n",
       " 0.34309623430962344,\n",
       " 0.4895397489539749,\n",
       " 0.4560669456066946,\n",
       " 0.4769874476987448,\n",
       " 0.4769874476987448,\n",
       " 0.4895397489539749,\n",
       " 0.48535564853556484,\n",
       " 0.48535564853556484,\n",
       " 0.4811715481171548,\n",
       " 0.4895397489539749,\n",
       " 0.4895397489539749,\n",
       " 0.49372384937238495,\n",
       " 0.497907949790795,\n",
       " 0.497907949790795,\n",
       " 0.497907949790795,\n",
       " 0.497907949790795,\n",
       " 0.497907949790795,\n",
       " 0.497907949790795,\n",
       " 0.497907949790795]"
      ]
     },
     "execution_count": 228,
     "metadata": {},
     "output_type": "execute_result"
    }
   ],
   "source": [
    "scores = nn.get_scores()\n",
    "scores"
   ]
  },
  {
   "cell_type": "code",
   "execution_count": 214,
   "metadata": {},
   "outputs": [
    {
     "data": {
      "text/plain": [
       "Text(0, 0.5, 'Validation Accuracy')"
      ]
     },
     "execution_count": 214,
     "metadata": {},
     "output_type": "execute_result"
    },
    {
     "data": {
      "image/png": "[encoded data removed]",
      "text/plain": [
       "<Figure size 720x720 with 1 Axes>"
      ]
     },
     "metadata": {
      "needs_background": "light"
     },
     "output_type": "display_data"
    }
   ],
   "source": [
    "plt.figure(figsize=(10, 10))\n",
    "plt.plot(np.arange(len(scores)), scores)\n",
    "# plt.title(f\"{folds}-fold Cross Validation, lr={lr}, epochs={num_epochs}, highest acc={nn.scores}\")\n",
    "plt.xlabel(\"Iteration\")\n",
    "plt.ylabel(\"Validation Accuracy\")\n",
    "# plt.savefig(f\"LR_highestAcc={scores}_{folds}-fold Cross Validation_lr={learning_rate}_lambda={reg_lambda}_iteration={num_iters}.png\")\n"
   ]
  },
  {
   "cell_type": "code",
   "execution_count": 257,
   "metadata": {},
   "outputs": [
    {
     "name": "stderr",
     "output_type": "stream",
     "text": [
      "2023-03-02 00:17:45.407 | INFO     | __main__:<cell line: 15>:24 - Input size = (956, 4892)\n",
      "2023-03-02 00:17:45.871 | INFO     | __main__:train:66 - Epoch: 0, loss: 1.791159860452829, accuracy: 37.66%.\n",
      "2023-03-02 00:17:51.766 | INFO     | __main__:train:66 - Epoch: 100, loss: 1.1329479239856082, accuracy: 35.98%.\n",
      "2023-03-02 00:17:57.882 | INFO     | __main__:train:66 - Epoch: 200, loss: 0.21475195208183412, accuracy: 51.05%.\n",
      "2023-03-02 00:18:03.252 | INFO     | __main__:train:66 - Epoch: 300, loss: 0.0411970457102648, accuracy: 50.63%.\n",
      "2023-03-02 00:18:09.228 | INFO     | __main__:train:66 - Epoch: 400, loss: 0.019359216192968952, accuracy: 50.21%.\n",
      "2023-03-02 00:18:14.613 | INFO     | __main__:<cell line: 15>:44 - Best Accuracy = 50.21%\n",
      "2023-03-02 00:18:15.214 | INFO     | __main__:train:66 - Epoch: 0, loss: 1.7912421789124608, accuracy: 36.40%.\n",
      "2023-03-02 00:18:20.274 | INFO     | __main__:train:66 - Epoch: 100, loss: 1.1250326163940652, accuracy: 39.75%.\n",
      "2023-03-02 00:18:25.346 | INFO     | __main__:train:66 - Epoch: 200, loss: 0.22124866182887587, accuracy: 43.93%.\n",
      "2023-03-02 00:18:30.359 | INFO     | __main__:train:66 - Epoch: 300, loss: 0.04598672187299709, accuracy: 41.42%.\n",
      "2023-03-02 00:18:35.478 | INFO     | __main__:train:66 - Epoch: 400, loss: 0.020243808925162844, accuracy: 43.10%.\n",
      "2023-03-02 00:18:40.928 | INFO     | __main__:<cell line: 15>:44 - Best Accuracy = 50.21%\n",
      "2023-03-02 00:18:41.684 | INFO     | __main__:train:66 - Epoch: 0, loss: 1.7926576070469544, accuracy: 40.17%.\n",
      "2023-03-02 00:18:46.885 | INFO     | __main__:train:66 - Epoch: 100, loss: 1.116195922115911, accuracy: 28.87%.\n",
      "2023-03-02 00:18:51.953 | INFO     | __main__:train:66 - Epoch: 200, loss: 0.21330003710088247, accuracy: 48.95%.\n",
      "2023-03-02 00:18:57.022 | INFO     | __main__:train:66 - Epoch: 300, loss: 0.043616971158077306, accuracy: 49.79%.\n",
      "2023-03-02 00:19:02.136 | INFO     | __main__:train:66 - Epoch: 400, loss: 0.020013855269953865, accuracy: 49.79%.\n",
      "2023-03-02 00:19:07.324 | INFO     | __main__:<cell line: 15>:44 - Best Accuracy = 50.21%\n",
      "2023-03-02 00:19:07.936 | INFO     | __main__:train:66 - Epoch: 0, loss: 1.7914872523496816, accuracy: 32.64%.\n",
      "2023-03-02 00:19:13.397 | INFO     | __main__:train:66 - Epoch: 100, loss: 1.1424008365328853, accuracy: 38.91%.\n",
      "2023-03-02 00:19:18.811 | INFO     | __main__:train:66 - Epoch: 200, loss: 0.28151061497654123, accuracy: 53.14%.\n",
      "2023-03-02 00:19:24.449 | INFO     | __main__:train:66 - Epoch: 300, loss: 0.04953899785886414, accuracy: 52.30%.\n",
      "2023-03-02 00:19:30.015 | INFO     | __main__:train:66 - Epoch: 400, loss: 0.021404009803500625, accuracy: 51.05%.\n",
      "2023-03-02 00:19:35.405 | INFO     | __main__:<cell line: 15>:44 - Best Accuracy = 51.05%\n",
      "2023-03-02 00:19:35.998 | INFO     | __main__:train:66 - Epoch: 0, loss: 1.7916677526810685, accuracy: 34.73%.\n",
      "2023-03-02 00:19:41.471 | INFO     | __main__:train:66 - Epoch: 100, loss: 1.1365121082638485, accuracy: 38.08%.\n",
      "2023-03-02 00:19:46.915 | INFO     | __main__:train:66 - Epoch: 200, loss: 0.2009076291578157, accuracy: 47.28%.\n",
      "2023-03-02 00:19:52.298 | INFO     | __main__:train:66 - Epoch: 300, loss: 0.040482166030959305, accuracy: 42.26%.\n",
      "2023-03-02 00:19:57.815 | INFO     | __main__:train:66 - Epoch: 400, loss: 0.018492432289313958, accuracy: 43.10%.\n",
      "2023-03-02 00:20:03.106 | INFO     | __main__:<cell line: 15>:44 - Best Accuracy = 51.05%\n",
      "2023-03-02 00:20:03.615 | INFO     | __main__:<cell line: 15>:24 - Input size = (956, 4892)\n",
      "2023-03-02 00:20:04.050 | INFO     | __main__:train:66 - Epoch: 0, loss: 1.792229754700239, accuracy: 30.13%.\n",
      "2023-03-02 00:20:09.498 | INFO     | __main__:train:66 - Epoch: 100, loss: 1.554290371459848, accuracy: 30.54%.\n",
      "2023-03-02 00:20:14.731 | INFO     | __main__:train:66 - Epoch: 200, loss: 1.5298427837884399, accuracy: 30.54%.\n",
      "2023-03-02 00:20:19.998 | INFO     | __main__:train:66 - Epoch: 300, loss: 1.4820651083097278, accuracy: 34.31%.\n",
      "2023-03-02 00:20:25.724 | INFO     | __main__:train:66 - Epoch: 400, loss: 1.3979885935241882, accuracy: 37.66%.\n",
      "2023-03-02 00:20:32.639 | INFO     | __main__:<cell line: 15>:44 - Best Accuracy = 37.66%\n",
      "2023-03-02 00:20:33.226 | INFO     | __main__:train:66 - Epoch: 0, loss: 1.7923739770171798, accuracy: 32.64%.\n",
      "2023-03-02 00:20:38.602 | INFO     | __main__:train:66 - Epoch: 100, loss: 1.5713259703273887, accuracy: 38.49%.\n",
      "2023-03-02 00:20:44.046 | INFO     | __main__:train:66 - Epoch: 200, loss: 1.5505641383661326, accuracy: 38.49%.\n",
      "2023-03-02 00:20:49.589 | INFO     | __main__:train:66 - Epoch: 300, loss: 1.5095267354227333, accuracy: 39.33%.\n",
      "2023-03-02 00:20:55.013 | INFO     | __main__:train:66 - Epoch: 400, loss: 1.4266254952800204, accuracy: 43.10%.\n",
      "2023-03-02 00:21:00.269 | INFO     | __main__:<cell line: 15>:44 - Best Accuracy = 43.10%\n",
      "2023-03-02 00:21:00.843 | INFO     | __main__:train:66 - Epoch: 0, loss: 1.7924908393824113, accuracy: 39.33%.\n",
      "2023-03-02 00:21:06.605 | INFO     | __main__:train:66 - Epoch: 100, loss: 1.5696136817030213, accuracy: 39.33%.\n",
      "2023-03-02 00:21:12.699 | INFO     | __main__:train:66 - Epoch: 200, loss: 1.5486167368535009, accuracy: 39.33%.\n",
      "2023-03-02 00:21:19.776 | INFO     | __main__:train:66 - Epoch: 300, loss: 1.5128620636027053, accuracy: 40.59%.\n",
      "2023-03-02 00:21:26.326 | INFO     | __main__:train:66 - Epoch: 400, loss: 1.4431612541384071, accuracy: 43.51%.\n",
      "2023-03-02 00:21:31.921 | INFO     | __main__:<cell line: 15>:44 - Best Accuracy = 43.51%\n",
      "2023-03-02 00:21:32.549 | INFO     | __main__:train:66 - Epoch: 0, loss: 1.7922049784610992, accuracy: 31.38%.\n",
      "2023-03-02 00:21:38.200 | INFO     | __main__:train:66 - Epoch: 100, loss: 1.566462187440687, accuracy: 31.38%.\n",
      "2023-03-02 00:21:44.609 | INFO     | __main__:train:66 - Epoch: 200, loss: 1.542452830689391, accuracy: 31.38%.\n",
      "2023-03-02 00:21:50.729 | INFO     | __main__:train:66 - Epoch: 300, loss: 1.4956464959690379, accuracy: 34.31%.\n",
      "2023-03-02 00:21:56.784 | INFO     | __main__:train:66 - Epoch: 400, loss: 1.4151495081004533, accuracy: 34.73%.\n",
      "2023-03-02 00:22:03.068 | INFO     | __main__:<cell line: 15>:44 - Best Accuracy = 43.51%\n",
      "2023-03-02 00:22:03.941 | INFO     | __main__:train:66 - Epoch: 0, loss: 1.792369225752838, accuracy: 38.08%.\n",
      "2023-03-02 00:22:10.534 | INFO     | __main__:train:66 - Epoch: 100, loss: 1.5900048884800049, accuracy: 35.98%.\n",
      "2023-03-02 00:22:17.137 | INFO     | __main__:train:66 - Epoch: 200, loss: 1.5671643931049408, accuracy: 35.98%.\n",
      "2023-03-02 00:22:23.593 | INFO     | __main__:train:66 - Epoch: 300, loss: 1.52440837958093, accuracy: 39.33%.\n",
      "2023-03-02 00:22:28.576 | INFO     | __main__:train:66 - Epoch: 400, loss: 1.4492442850060152, accuracy: 43.10%.\n",
      "2023-03-02 00:22:33.503 | INFO     | __main__:<cell line: 15>:44 - Best Accuracy = 43.51%\n",
      "2023-03-02 00:22:33.998 | INFO     | __main__:<cell line: 15>:24 - Input size = (956, 4892)\n",
      "2023-03-02 00:22:34.423 | INFO     | __main__:train:66 - Epoch: 0, loss: 1.791776593249209, accuracy: 35.56%.\n",
      "2023-03-02 00:22:39.463 | INFO     | __main__:train:66 - Epoch: 100, loss: 2.7249884249623757, accuracy: 25.94%.\n",
      "/var/folders/y2/v1p970n14850jtr0d94_mw440000gq/T/ipykernel_71346/2745098340.py:25: RuntimeWarning: invalid value encountered in true_divide\n",
      "  self.probs = exp_scores / np.sum(exp_scores, axis=1, keepdims=True)\n",
      "/var/folders/y2/v1p970n14850jtr0d94_mw440000gq/T/ipykernel_71346/2745098340.py:52: RuntimeWarning: invalid value encountered in log\n",
      "  correct_logprobs = -np.log(y_hat[range(len(X)), np.argmax(y, axis=1)]+1e-12)\n",
      "2023-03-02 00:22:44.929 | INFO     | __main__:train:66 - Epoch: 200, loss: nan, accuracy: 9.21%.\n",
      "2023-03-02 00:22:52.714 | INFO     | __main__:train:66 - Epoch: 300, loss: nan, accuracy: 9.21%.\n",
      "2023-03-02 00:22:59.182 | INFO     | __main__:train:66 - Epoch: 400, loss: nan, accuracy: 9.21%.\n",
      "2023-03-02 00:23:05.807 | INFO     | __main__:<cell line: 15>:44 - Best Accuracy = 9.21%\n",
      "2023-03-02 00:23:06.556 | INFO     | __main__:train:66 - Epoch: 0, loss: 1.7917578075928515, accuracy: 30.96%.\n",
      "2023-03-02 00:23:13.837 | INFO     | __main__:train:66 - Epoch: 100, loss: 1.6714906718159306, accuracy: 28.03%.\n",
      "2023-03-02 00:23:19.775 | INFO     | __main__:train:66 - Epoch: 200, loss: 2.14078301488432, accuracy: 30.96%.\n",
      "2023-03-02 00:23:25.109 | INFO     | __main__:train:66 - Epoch: 300, loss: 1.9083094833628798, accuracy: 31.80%.\n",
      "2023-03-02 00:23:30.336 | INFO     | __main__:train:66 - Epoch: 400, loss: 1.866185575835304, accuracy: 27.62%.\n",
      "2023-03-02 00:23:35.527 | INFO     | __main__:<cell line: 15>:44 - Best Accuracy = 27.62%\n",
      "2023-03-02 00:23:36.146 | INFO     | __main__:train:66 - Epoch: 0, loss: 1.7926048593360349, accuracy: 31.38%.\n",
      "2023-03-02 00:23:41.254 | INFO     | __main__:train:66 - Epoch: 100, loss: 1.7597106706331027, accuracy: 33.47%.\n",
      "/var/folders/y2/v1p970n14850jtr0d94_mw440000gq/T/ipykernel_71346/2745098340.py:25: RuntimeWarning: invalid value encountered in true_divide\n",
      "  self.probs = exp_scores / np.sum(exp_scores, axis=1, keepdims=True)\n",
      "/var/folders/y2/v1p970n14850jtr0d94_mw440000gq/T/ipykernel_71346/2745098340.py:52: RuntimeWarning: invalid value encountered in log\n",
      "  correct_logprobs = -np.log(y_hat[range(len(X)), np.argmax(y, axis=1)]+1e-12)\n",
      "2023-03-02 00:23:46.287 | INFO     | __main__:train:66 - Epoch: 200, loss: nan, accuracy: 8.79%.\n",
      "2023-03-02 00:23:51.383 | INFO     | __main__:train:66 - Epoch: 300, loss: nan, accuracy: 8.79%.\n",
      "2023-03-02 00:23:56.032 | INFO     | __main__:train:66 - Epoch: 400, loss: nan, accuracy: 8.79%.\n",
      "2023-03-02 00:24:00.791 | INFO     | __main__:<cell line: 15>:44 - Best Accuracy = 27.62%\n",
      "2023-03-02 00:24:01.398 | INFO     | __main__:train:66 - Epoch: 0, loss: 1.7922352137518642, accuracy: 33.05%.\n",
      "/var/folders/y2/v1p970n14850jtr0d94_mw440000gq/T/ipykernel_71346/2745098340.py:25: RuntimeWarning: invalid value encountered in true_divide\n",
      "  self.probs = exp_scores / np.sum(exp_scores, axis=1, keepdims=True)\n",
      "/var/folders/y2/v1p970n14850jtr0d94_mw440000gq/T/ipykernel_71346/2745098340.py:52: RuntimeWarning: invalid value encountered in log\n",
      "  correct_logprobs = -np.log(y_hat[range(len(X)), np.argmax(y, axis=1)]+1e-12)\n",
      "2023-03-02 00:24:06.567 | INFO     | __main__:train:66 - Epoch: 100, loss: nan, accuracy: 5.02%.\n",
      "2023-03-02 00:24:11.695 | INFO     | __main__:train:66 - Epoch: 200, loss: nan, accuracy: 5.02%.\n",
      "2023-03-02 00:24:16.676 | INFO     | __main__:train:66 - Epoch: 300, loss: nan, accuracy: 5.02%.\n",
      "2023-03-02 00:24:21.629 | INFO     | __main__:train:66 - Epoch: 400, loss: nan, accuracy: 5.02%.\n",
      "2023-03-02 00:24:26.836 | INFO     | __main__:<cell line: 15>:44 - Best Accuracy = 27.62%\n",
      "2023-03-02 00:24:27.566 | INFO     | __main__:train:66 - Epoch: 0, loss: 1.7914057732888042, accuracy: 33.47%.\n",
      "/var/folders/y2/v1p970n14850jtr0d94_mw440000gq/T/ipykernel_71346/2745098340.py:25: RuntimeWarning: invalid value encountered in true_divide\n",
      "  self.probs = exp_scores / np.sum(exp_scores, axis=1, keepdims=True)\n",
      "/var/folders/y2/v1p970n14850jtr0d94_mw440000gq/T/ipykernel_71346/2745098340.py:52: RuntimeWarning: invalid value encountered in log\n",
      "  correct_logprobs = -np.log(y_hat[range(len(X)), np.argmax(y, axis=1)]+1e-12)\n",
      "2023-03-02 00:24:34.301 | INFO     | __main__:train:66 - Epoch: 100, loss: nan, accuracy: 10.46%.\n",
      "2023-03-02 00:24:40.855 | INFO     | __main__:train:66 - Epoch: 200, loss: nan, accuracy: 10.46%.\n",
      "2023-03-02 00:24:46.312 | INFO     | __main__:train:66 - Epoch: 300, loss: nan, accuracy: 10.46%.\n",
      "2023-03-02 00:24:52.155 | INFO     | __main__:train:66 - Epoch: 400, loss: nan, accuracy: 10.46%.\n",
      "2023-03-02 00:24:58.152 | INFO     | __main__:<cell line: 15>:44 - Best Accuracy = 27.62%\n"
     ]
    },
    {
     "data": {
      "image/png": "[encoded data removed]",
      "text/plain": [
       "<Figure size 432x288 with 1 Axes>"
      ]
     },
     "metadata": {
      "needs_background": "light"
     },
     "output_type": "display_data"
    }
   ],
   "source": [
    "TRAIN_PATH = \"./train.csv\"\n",
    "TEST_PATH = \"./test.csv\"\n",
    "train_set = read_csv(TRAIN_PATH)\n",
    "test_set = read_csv(TEST_PATH)\n",
    "val_set = read_csv(TRAIN_PATH)\n",
    "train_set = data_cleaning(train_set)\n",
    "val_set = data_cleaning(val_set)\n",
    "test_set = data_cleaning(test_set)\n",
    "embedding, _, _, text_features_test,\\\n",
    "        emotion_set, _, _, emotion2int, int2emotion = pre_processing(train_set, val_set, test_set)\n",
    "\n",
    "folds = 5\n",
    "scores = []\n",
    "lr_list = [0.001, 0.0001, 0.01]\n",
    "best_scores = []\n",
    "for lr in lr_list:\n",
    "        best_score = 0\n",
    "        \n",
    "        for fold in range(folds):\n",
    "                train_set, val_set, test_set = data_loading(fold, folds)\n",
    "                _, text_features_train, text_features_val, _,\\\n",
    "                        _, train_targets, val_targets, _, _ = pre_processing(train_set, val_set, test_set)\n",
    "                weights = np.zeros((len(embedding), len(emotion_set)))\n",
    "                if fold == 0:\n",
    "                        logger.info(f\"Input size = {np.array(text_features_train).shape}\")\n",
    "                text_features_train = np.array(text_features_train)\n",
    "                train_targets = np.array(train_targets)\n",
    "                text_features_val = np.array(text_features_val)\n",
    "                val_targets = np.array(val_targets)\n",
    "                X = np.array(text_features_train)\n",
    "                y = np.array(train_targets)\n",
    "                # create a neural network with 100 hidden units\n",
    "                nn = NeuralNetwork(len(text_features_train[0]), 120, len(emotion_set))\n",
    "                # train the neural network\n",
    "                num_epochs = 500\n",
    "\n",
    "                \n",
    "                nn.train(X, y, val_targets, text_features_val, num_epochs=num_epochs, learning_rate=lr)\n",
    "\n",
    "                scores_fold = nn.get_scores()\n",
    "                scores.append(scores_fold)\n",
    "                if scores_fold[-1] > best_score:\n",
    "                        best_nn = nn\n",
    "                        best_score = scores_fold[-1]\n",
    "                logger.info(f\"Best Accuracy = {best_score * 100:.2f}%\")\n",
    "        best_scores.append(best_score)\n",
    "                # break\n",
    "        for score in scores:\n",
    "                plt.plot(np.arange(len(score)), score)\n",
    "        plt.title(f\"NN: {folds}-fold, lr={lr}, acc={best_score * 100:.2f}%\")\n",
    "        plt.xlabel(\"Iteration\")\n",
    "        plt.ylabel(\"Validation Accuracy\")\n",
    "        plt.savefig(f\"NN_highestAcc={best_score}_{folds}-fold Cross Validation_lr={lr}_epochs={num_epochs}.png\")"
   ]
  },
  {
   "cell_type": "code",
   "execution_count": 260,
   "metadata": {},
   "outputs": [
    {
     "data": {
      "text/plain": [
       "[0.27615062761506276]"
      ]
     },
     "execution_count": 260,
     "metadata": {},
     "output_type": "execute_result"
    }
   ],
   "source": [
    "best_scores"
   ]
  },
  {
   "cell_type": "code",
   "execution_count": 261,
   "metadata": {},
   "outputs": [
    {
     "ename": "ValueError",
     "evalue": "x and y must have same first dimension, but have shapes (3,) and (1,)",
     "output_type": "error",
     "traceback": [
      "\u001b[0;31m---------------------------------------------------------------------------\u001b[0m",
      "\u001b[0;31mValueError\u001b[0m                                Traceback (most recent call last)",
      "\u001b[1;32m/Users/wenxinjiang/Desktop/23Spring/CS 577/CS577-NLP/HW1/hw1_NN.ipynb Cell 22\u001b[0m in \u001b[0;36m<cell line: 1>\u001b[0;34m()\u001b[0m\n\u001b[0;32m----> <a href='vscode-notebook-cell:/Users/wenxinjiang/Desktop/23Spring/CS%20577/CS577-NLP/HW1/hw1_NN.ipynb#X36sZmlsZQ%3D%3D?line=0'>1</a>\u001b[0m plt\u001b[39m.\u001b[39;49mplot(np\u001b[39m.\u001b[39;49marray(lr_list), best_scores)\n\u001b[1;32m      <a href='vscode-notebook-cell:/Users/wenxinjiang/Desktop/23Spring/CS%20577/CS577-NLP/HW1/hw1_NN.ipynb#X36sZmlsZQ%3D%3D?line=1'>2</a>\u001b[0m plt\u001b[39m.\u001b[39mxlabel(\u001b[39m\"\u001b[39m\u001b[39mLearning Rate\u001b[39m\u001b[39m\"\u001b[39m)\n\u001b[1;32m      <a href='vscode-notebook-cell:/Users/wenxinjiang/Desktop/23Spring/CS%20577/CS577-NLP/HW1/hw1_NN.ipynb#X36sZmlsZQ%3D%3D?line=2'>3</a>\u001b[0m plt\u001b[39m.\u001b[39mylabel(\u001b[39m\"\u001b[39m\u001b[39mAccuracy\u001b[39m\u001b[39m\"\u001b[39m)\n",
      "File \u001b[0;32m/Library/Frameworks/Python.framework/Versions/3.10/lib/python3.10/site-packages/matplotlib/pyplot.py:2748\u001b[0m, in \u001b[0;36mplot\u001b[0;34m(scalex, scaley, data, *args, **kwargs)\u001b[0m\n\u001b[1;32m   2746\u001b[0m \u001b[39m@_copy_docstring_and_deprecators\u001b[39m(Axes\u001b[39m.\u001b[39mplot)\n\u001b[1;32m   2747\u001b[0m \u001b[39mdef\u001b[39;00m \u001b[39mplot\u001b[39m(\u001b[39m*\u001b[39margs, scalex\u001b[39m=\u001b[39m\u001b[39mTrue\u001b[39;00m, scaley\u001b[39m=\u001b[39m\u001b[39mTrue\u001b[39;00m, data\u001b[39m=\u001b[39m\u001b[39mNone\u001b[39;00m, \u001b[39m*\u001b[39m\u001b[39m*\u001b[39mkwargs):\n\u001b[0;32m-> 2748\u001b[0m     \u001b[39mreturn\u001b[39;00m gca()\u001b[39m.\u001b[39;49mplot(\n\u001b[1;32m   2749\u001b[0m         \u001b[39m*\u001b[39;49margs, scalex\u001b[39m=\u001b[39;49mscalex, scaley\u001b[39m=\u001b[39;49mscaley,\n\u001b[1;32m   2750\u001b[0m         \u001b[39m*\u001b[39;49m\u001b[39m*\u001b[39;49m({\u001b[39m\"\u001b[39;49m\u001b[39mdata\u001b[39;49m\u001b[39m\"\u001b[39;49m: data} \u001b[39mif\u001b[39;49;00m data \u001b[39mis\u001b[39;49;00m \u001b[39mnot\u001b[39;49;00m \u001b[39mNone\u001b[39;49;00m \u001b[39melse\u001b[39;49;00m {}), \u001b[39m*\u001b[39;49m\u001b[39m*\u001b[39;49mkwargs)\n",
      "File \u001b[0;32m/Library/Frameworks/Python.framework/Versions/3.10/lib/python3.10/site-packages/matplotlib/axes/_axes.py:1668\u001b[0m, in \u001b[0;36mAxes.plot\u001b[0;34m(self, scalex, scaley, data, *args, **kwargs)\u001b[0m\n\u001b[1;32m   1425\u001b[0m \u001b[39m\"\"\"\u001b[39;00m\n\u001b[1;32m   1426\u001b[0m \u001b[39mPlot y versus x as lines and/or markers.\u001b[39;00m\n\u001b[1;32m   1427\u001b[0m \n\u001b[0;32m   (...)\u001b[0m\n\u001b[1;32m   1665\u001b[0m \u001b[39m(``'green'``) or hex strings (``'#008000'``).\u001b[39;00m\n\u001b[1;32m   1666\u001b[0m \u001b[39m\"\"\"\u001b[39;00m\n\u001b[1;32m   1667\u001b[0m kwargs \u001b[39m=\u001b[39m cbook\u001b[39m.\u001b[39mnormalize_kwargs(kwargs, mlines\u001b[39m.\u001b[39mLine2D)\n\u001b[0;32m-> 1668\u001b[0m lines \u001b[39m=\u001b[39m [\u001b[39m*\u001b[39m\u001b[39mself\u001b[39m\u001b[39m.\u001b[39m_get_lines(\u001b[39m*\u001b[39margs, data\u001b[39m=\u001b[39mdata, \u001b[39m*\u001b[39m\u001b[39m*\u001b[39mkwargs)]\n\u001b[1;32m   1669\u001b[0m \u001b[39mfor\u001b[39;00m line \u001b[39min\u001b[39;00m lines:\n\u001b[1;32m   1670\u001b[0m     \u001b[39mself\u001b[39m\u001b[39m.\u001b[39madd_line(line)\n",
      "File \u001b[0;32m/Library/Frameworks/Python.framework/Versions/3.10/lib/python3.10/site-packages/matplotlib/axes/_base.py:311\u001b[0m, in \u001b[0;36m_process_plot_var_args.__call__\u001b[0;34m(self, data, *args, **kwargs)\u001b[0m\n\u001b[1;32m    309\u001b[0m     this \u001b[39m+\u001b[39m\u001b[39m=\u001b[39m args[\u001b[39m0\u001b[39m],\n\u001b[1;32m    310\u001b[0m     args \u001b[39m=\u001b[39m args[\u001b[39m1\u001b[39m:]\n\u001b[0;32m--> 311\u001b[0m \u001b[39myield from\u001b[39;00m \u001b[39mself\u001b[39;49m\u001b[39m.\u001b[39;49m_plot_args(\n\u001b[1;32m    312\u001b[0m     this, kwargs, ambiguous_fmt_datakey\u001b[39m=\u001b[39;49mambiguous_fmt_datakey)\n",
      "File \u001b[0;32m/Library/Frameworks/Python.framework/Versions/3.10/lib/python3.10/site-packages/matplotlib/axes/_base.py:504\u001b[0m, in \u001b[0;36m_process_plot_var_args._plot_args\u001b[0;34m(self, tup, kwargs, return_kwargs, ambiguous_fmt_datakey)\u001b[0m\n\u001b[1;32m    501\u001b[0m     \u001b[39mself\u001b[39m\u001b[39m.\u001b[39maxes\u001b[39m.\u001b[39myaxis\u001b[39m.\u001b[39mupdate_units(y)\n\u001b[1;32m    503\u001b[0m \u001b[39mif\u001b[39;00m x\u001b[39m.\u001b[39mshape[\u001b[39m0\u001b[39m] \u001b[39m!=\u001b[39m y\u001b[39m.\u001b[39mshape[\u001b[39m0\u001b[39m]:\n\u001b[0;32m--> 504\u001b[0m     \u001b[39mraise\u001b[39;00m \u001b[39mValueError\u001b[39;00m(\u001b[39mf\u001b[39m\u001b[39m\"\u001b[39m\u001b[39mx and y must have same first dimension, but \u001b[39m\u001b[39m\"\u001b[39m\n\u001b[1;32m    505\u001b[0m                      \u001b[39mf\u001b[39m\u001b[39m\"\u001b[39m\u001b[39mhave shapes \u001b[39m\u001b[39m{\u001b[39;00mx\u001b[39m.\u001b[39mshape\u001b[39m}\u001b[39;00m\u001b[39m and \u001b[39m\u001b[39m{\u001b[39;00my\u001b[39m.\u001b[39mshape\u001b[39m}\u001b[39;00m\u001b[39m\"\u001b[39m)\n\u001b[1;32m    506\u001b[0m \u001b[39mif\u001b[39;00m x\u001b[39m.\u001b[39mndim \u001b[39m>\u001b[39m \u001b[39m2\u001b[39m \u001b[39mor\u001b[39;00m y\u001b[39m.\u001b[39mndim \u001b[39m>\u001b[39m \u001b[39m2\u001b[39m:\n\u001b[1;32m    507\u001b[0m     \u001b[39mraise\u001b[39;00m \u001b[39mValueError\u001b[39;00m(\u001b[39mf\u001b[39m\u001b[39m\"\u001b[39m\u001b[39mx and y can be no greater than 2D, but have \u001b[39m\u001b[39m\"\u001b[39m\n\u001b[1;32m    508\u001b[0m                      \u001b[39mf\u001b[39m\u001b[39m\"\u001b[39m\u001b[39mshapes \u001b[39m\u001b[39m{\u001b[39;00mx\u001b[39m.\u001b[39mshape\u001b[39m}\u001b[39;00m\u001b[39m and \u001b[39m\u001b[39m{\u001b[39;00my\u001b[39m.\u001b[39mshape\u001b[39m}\u001b[39;00m\u001b[39m\"\u001b[39m)\n",
      "\u001b[0;31mValueError\u001b[0m: x and y must have same first dimension, but have shapes (3,) and (1,)"
     ]
    },
    {
     "data": {
      "image/png": "[encoded data removed]",
      "text/plain": [
       "<Figure size 432x288 with 1 Axes>"
      ]
     },
     "metadata": {
      "needs_background": "light"
     },
     "output_type": "display_data"
    }
   ],
   "source": [
    "plt.plot(np.array(lr_list), best_scores)\n",
    "plt.xlabel(\"Learning Rate\")\n",
    "plt.ylabel(\"Accuracy\")\n",
    "plt.title(\"LR vs. Accuracy\")\n",
    "plt.savefig(\"NN_Acc_Curve.png\")"
   ]
  },
  {
   "cell_type": "code",
   "execution_count": null,
   "metadata": {},
   "outputs": [],
   "source": []
  }
 ],
 "metadata": {
  "kernelspec": {
   "display_name": "Python 3",
   "language": "python",
   "name": "python3"
  },
  "language_info": {
   "codemirror_mode": {
    "name": "ipython",
    "version": 3
   },
   "file_extension": ".py",
   "mimetype": "text/x-python",
   "name": "python",
   "nbconvert_exporter": "python",
   "pygments_lexer": "ipython3",
   "version": "3.10.2"
  },
  "orig_nbformat": 4,
  "vscode": {
   "interpreter": {
    "hash": "949777d72b0d2535278d3dc13498b2535136f6dfe0678499012e853ee9abcab1"
   }
  }
 },
 "nbformat": 4,
 "nbformat_minor": 2
}
