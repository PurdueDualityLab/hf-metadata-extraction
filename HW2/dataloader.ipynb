{
 "cells": [
  {
   "cell_type": "code",
   "execution_count": 2,
   "metadata": {},
   "outputs": [
    {
     "name": "stdout",
     "output_type": "stream",
     "text": [
      "Collecting loguru\n",
      "  Using cached loguru-0.6.0-py3-none-any.whl (58 kB)\n",
      "Requirement already satisfied: colorama>=0.3.4 in c:\\users\\wenxi\\anaconda3\\envs\\cs577hw2\\lib\\site-packages (from loguru) (0.4.6)\n",
      "Collecting win32-setctime>=1.0.0\n",
      "  Using cached win32_setctime-1.1.0-py3-none-any.whl (3.6 kB)\n",
      "Installing collected packages: win32-setctime, loguru\n",
      "Successfully installed loguru-0.6.0 win32-setctime-1.1.0\n"
     ]
    }
   ],
   "source": [
    "!pip install loguru"
   ]
  },
  {
   "cell_type": "code",
   "execution_count": 30,
   "metadata": {},
   "outputs": [],
   "source": [
    "import torch\n",
    "\n",
    "from loguru import logger"
   ]
  },
  {
   "cell_type": "code",
   "execution_count": 56,
   "metadata": {},
   "outputs": [],
   "source": [
    "import sys\n",
    "sys.path.append('d:\\\\Class\\\\23Spring\\\\CS577\\\\CS577-NLP\\\\HW2')"
   ]
  },
  {
   "cell_type": "code",
   "execution_count": 167,
   "metadata": {},
   "outputs": [],
   "source": [
    "from torch.utils.data import Dataset\n",
    "import pandas as pd\n",
    "\n",
    "# https://pytorch.org/tutorials/beginner/data_loading_tutorial.html\n",
    "class WiCDataset(Dataset):\n",
    "\n",
    "    def __init__(self, data_path, label_path):\n",
    "        self.data_path = data_path\n",
    "        self.label_path = label_path\n",
    "\n",
    "        # Read the csv files from certain file path\n",
    "        self.data = pd.read_csv(data_path, sep='\\t',header=None,\\\n",
    "                                    names=[\"Target\", \"POS\", \"index1-2\", \"example1\", \"example2\"])\n",
    "        self.label = pd.read_csv(label_path, sep='\\t', header=None,\\\n",
    "                                    names=[\"Label\"])\n",
    "    def __len__(self):\n",
    "        if len(self.data) == len(self.label):\n",
    "            return len(self.data)\n",
    "        else:\n",
    "            raise AssertionError(f\"File sizes do not match each other: {self.data_path.split('/')[-1]}, {self.label_path.split('/')[-1]}\")\n",
    "    \n",
    "    def __head__(self):\n",
    "        return self.data.head()\n",
    "    \n",
    "    def __getitem__(self, idx):\n",
    "        target = self.data.loc[idx, \"Target\"]\n",
    "        POS = self.data.loc[idx, \"POS\"]\n",
    "        index1, index2 = self.data.loc[idx, \"index1-2\"].split(\"-\")\n",
    "        context1 = self.data.loc[idx, \"example1\"]\n",
    "        context2 = self.data.loc[idx, \"example2\"]\n",
    "\n",
    "        label = self.label.loc[idx, \"Label\"]\n",
    "        dic_data = {\"label\": label, \"target\": target, \"POS\": POS, \"index1\": index1, \\\n",
    "                    \"index2\": index2, \"context1\": context1,\\\n",
    "                        \"context2\": context2}\n",
    "        return dic_data"
   ]
  },
  {
   "cell_type": "code",
   "execution_count": 168,
   "metadata": {},
   "outputs": [
    {
     "name": "stdout",
     "output_type": "stream",
     "text": [
      "5428\n"
     ]
    }
   ],
   "source": [
    "train_data_path = \"./WiC_dataset/train/train.data.txt\"\n",
    "train_label_path = \"./WiC_dataset/train/train.gold.txt\"\n",
    "train_set = WiCDataset(train_data_path, train_label_path)\n",
    "print(train_set.__len__())"
   ]
  },
  {
   "cell_type": "code",
   "execution_count": 160,
   "metadata": {},
   "outputs": [
    {
     "data": {
      "text/plain": [
       "{'label': 'F',\n",
       " 'target': 'carry',\n",
       " 'POS': 'V',\n",
       " 'index1': '2',\n",
       " 'index2': '1',\n",
       " 'context1': 'You must carry your camping gear .',\n",
       " 'context2': 'Sound carries well over water .'}"
      ]
     },
     "execution_count": 160,
     "metadata": {},
     "output_type": "execute_result"
    }
   ],
   "source": [
    "train_set[0]"
   ]
  },
  {
   "cell_type": "code",
   "execution_count": 149,
   "metadata": {},
   "outputs": [],
   "source": [
    "traindata = pd.read_csv(train_data_path, sep='\\t',\\\n",
    "                                header=None,\\\n",
    "                                    names=[\"Target\", \"POS\", \"index1-2\", \"example1\", \"example2\"])"
   ]
  },
  {
   "cell_type": "code",
   "execution_count": 150,
   "metadata": {},
   "outputs": [
    {
     "data": {
      "text/html": [
       "<div>\n",
       "<style scoped>\n",
       "    .dataframe tbody tr th:only-of-type {\n",
       "        vertical-align: middle;\n",
       "    }\n",
       "\n",
       "    .dataframe tbody tr th {\n",
       "        vertical-align: top;\n",
       "    }\n",
       "\n",
       "    .dataframe thead th {\n",
       "        text-align: right;\n",
       "    }\n",
       "</style>\n",
       "<table border=\"1\" class=\"dataframe\">\n",
       "  <thead>\n",
       "    <tr style=\"text-align: right;\">\n",
       "      <th></th>\n",
       "      <th>Target</th>\n",
       "      <th>POS</th>\n",
       "      <th>index1-2</th>\n",
       "      <th>example1</th>\n",
       "      <th>example2</th>\n",
       "    </tr>\n",
       "  </thead>\n",
       "  <tbody>\n",
       "    <tr>\n",
       "      <th>0</th>\n",
       "      <td>carry</td>\n",
       "      <td>V</td>\n",
       "      <td>2-1</td>\n",
       "      <td>You must carry your camping gear .</td>\n",
       "      <td>Sound carries well over water .</td>\n",
       "    </tr>\n",
       "    <tr>\n",
       "      <th>1</th>\n",
       "      <td>go</td>\n",
       "      <td>V</td>\n",
       "      <td>2-6</td>\n",
       "      <td>Messages must go through diplomatic channels .</td>\n",
       "      <td>Do you think the sofa will go through the door ?</td>\n",
       "    </tr>\n",
       "    <tr>\n",
       "      <th>2</th>\n",
       "      <td>break</td>\n",
       "      <td>V</td>\n",
       "      <td>0-2</td>\n",
       "      <td>Break an alibi .</td>\n",
       "      <td>The wholesaler broke the container loads into ...</td>\n",
       "    </tr>\n",
       "    <tr>\n",
       "      <th>3</th>\n",
       "      <td>cup</td>\n",
       "      <td>N</td>\n",
       "      <td>8-4</td>\n",
       "      <td>He wore a jock strap with a metal cup .</td>\n",
       "      <td>Bees filled the waxen cups with honey .</td>\n",
       "    </tr>\n",
       "    <tr>\n",
       "      <th>4</th>\n",
       "      <td>academy</td>\n",
       "      <td>N</td>\n",
       "      <td>1-2</td>\n",
       "      <td>The Academy of Music .</td>\n",
       "      <td>The French Academy .</td>\n",
       "    </tr>\n",
       "    <tr>\n",
       "      <th>...</th>\n",
       "      <td>...</td>\n",
       "      <td>...</td>\n",
       "      <td>...</td>\n",
       "      <td>...</td>\n",
       "      <td>...</td>\n",
       "    </tr>\n",
       "    <tr>\n",
       "      <th>5423</th>\n",
       "      <td>krona</td>\n",
       "      <td>N</td>\n",
       "      <td>4-8</td>\n",
       "      <td>Piecas kronas — five krona .</td>\n",
       "      <td>Kronas kurss — the exchange rate of the krona .</td>\n",
       "    </tr>\n",
       "    <tr>\n",
       "      <th>5424</th>\n",
       "      <td>conflict</td>\n",
       "      <td>N</td>\n",
       "      <td>3-1</td>\n",
       "      <td>The harder the conflict the more glorious the ...</td>\n",
       "      <td>The conflict between the government and the re...</td>\n",
       "    </tr>\n",
       "    <tr>\n",
       "      <th>5425</th>\n",
       "      <td>answer</td>\n",
       "      <td>V</td>\n",
       "      <td>0-0</td>\n",
       "      <td>Answer the riddle .</td>\n",
       "      <td>Answer a question .</td>\n",
       "    </tr>\n",
       "    <tr>\n",
       "      <th>5426</th>\n",
       "      <td>play</td>\n",
       "      <td>V</td>\n",
       "      <td>0-0</td>\n",
       "      <td>Play the casinos in Trouville .</td>\n",
       "      <td>Play the races .</td>\n",
       "    </tr>\n",
       "    <tr>\n",
       "      <th>5427</th>\n",
       "      <td>invasion</td>\n",
       "      <td>N</td>\n",
       "      <td>1-1</td>\n",
       "      <td>An invasion of bees .</td>\n",
       "      <td>An invasion of mobile phones .</td>\n",
       "    </tr>\n",
       "  </tbody>\n",
       "</table>\n",
       "<p>5428 rows × 5 columns</p>\n",
       "</div>"
      ],
      "text/plain": [
       "        Target POS index1-2  \\\n",
       "0        carry   V      2-1   \n",
       "1           go   V      2-6   \n",
       "2        break   V      0-2   \n",
       "3          cup   N      8-4   \n",
       "4      academy   N      1-2   \n",
       "...        ...  ..      ...   \n",
       "5423     krona   N      4-8   \n",
       "5424  conflict   N      3-1   \n",
       "5425    answer   V      0-0   \n",
       "5426      play   V      0-0   \n",
       "5427  invasion   N      1-1   \n",
       "\n",
       "                                               example1  \\\n",
       "0                    You must carry your camping gear .   \n",
       "1        Messages must go through diplomatic channels .   \n",
       "2                                      Break an alibi .   \n",
       "3               He wore a jock strap with a metal cup .   \n",
       "4                                The Academy of Music .   \n",
       "...                                                 ...   \n",
       "5423                       Piecas kronas — five krona .   \n",
       "5424  The harder the conflict the more glorious the ...   \n",
       "5425                                Answer the riddle .   \n",
       "5426                    Play the casinos in Trouville .   \n",
       "5427                              An invasion of bees .   \n",
       "\n",
       "                                               example2  \n",
       "0                       Sound carries well over water .  \n",
       "1      Do you think the sofa will go through the door ?  \n",
       "2     The wholesaler broke the container loads into ...  \n",
       "3               Bees filled the waxen cups with honey .  \n",
       "4                                  The French Academy .  \n",
       "...                                                 ...  \n",
       "5423    Kronas kurss — the exchange rate of the krona .  \n",
       "5424  The conflict between the government and the re...  \n",
       "5425                                Answer a question .  \n",
       "5426                                   Play the races .  \n",
       "5427                     An invasion of mobile phones .  \n",
       "\n",
       "[5428 rows x 5 columns]"
      ]
     },
     "execution_count": 150,
     "metadata": {},
     "output_type": "execute_result"
    }
   ],
   "source": [
    "traindata"
   ]
  },
  {
   "cell_type": "code",
   "execution_count": 151,
   "metadata": {},
   "outputs": [],
   "source": [
    "idx1, idx2 = traindata.loc[0, \"index1-2\"].split(\"-\")"
   ]
  },
  {
   "cell_type": "code",
   "execution_count": 153,
   "metadata": {},
   "outputs": [],
   "source": [
    "labeldata = pd.read_csv(train_label_path, sep='\\t',\\\n",
    "                                header=None,\\\n",
    "                                    names=[\"Label\"])"
   ]
  },
  {
   "cell_type": "code",
   "execution_count": 155,
   "metadata": {},
   "outputs": [
    {
     "data": {
      "text/plain": [
       "'F'"
      ]
     },
     "execution_count": 155,
     "metadata": {},
     "output_type": "execute_result"
    }
   ],
   "source": [
    "labeldata.loc[0, \"Label\"]"
   ]
  }
 ],
 "metadata": {
  "kernelspec": {
   "display_name": "cs577hw2",
   "language": "python",
   "name": "python3"
  },
  "language_info": {
   "codemirror_mode": {
    "name": "ipython",
    "version": 3
   },
   "file_extension": ".py",
   "mimetype": "text/x-python",
   "name": "python",
   "nbconvert_exporter": "python",
   "pygments_lexer": "ipython3",
   "version": "3.7.16"
  },
  "orig_nbformat": 4,
  "vscode": {
   "interpreter": {
    "hash": "0ed956a860cac739feb24258b7ae556baa5dc622df03195e298281ceda87cb44"
   }
  }
 },
 "nbformat": 4,
 "nbformat_minor": 2
}
